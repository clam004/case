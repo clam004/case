{
  "nbformat": 4,
  "nbformat_minor": 0,
  "metadata": {
    "colab": {
      "name": "Load_Training_Data.ipynb",
      "provenance": [],
      "collapsed_sections": [],
      "authorship_tag": "ABX9TyPPh4oRYETZRabEtyafmv4b",
      "include_colab_link": true
    },
    "kernelspec": {
      "name": "python3",
      "display_name": "Python 3"
    },
    "language_info": {
      "name": "python"
    },
    "accelerator": "GPU",
    "gpuClass": "standard",
    "widgets": {
      "application/vnd.jupyter.widget-state+json": {
        "17deb29dc2cc465cbe87b7b6a726a439": {
          "model_module": "@jupyter-widgets/controls",
          "model_name": "HBoxModel",
          "model_module_version": "1.5.0",
          "state": {
            "_dom_classes": [],
            "_model_module": "@jupyter-widgets/controls",
            "_model_module_version": "1.5.0",
            "_model_name": "HBoxModel",
            "_view_count": null,
            "_view_module": "@jupyter-widgets/controls",
            "_view_module_version": "1.5.0",
            "_view_name": "HBoxView",
            "box_style": "",
            "children": [
              "IPY_MODEL_8025c942675d4076b6cc22116781623f",
              "IPY_MODEL_982ae54a37034d678e6b769eb3f00752",
              "IPY_MODEL_5d78963339b64bf68ed04684e2cc275b"
            ],
            "layout": "IPY_MODEL_6e4501eafdae4378b99ff7bc83863625"
          }
        },
        "8025c942675d4076b6cc22116781623f": {
          "model_module": "@jupyter-widgets/controls",
          "model_name": "HTMLModel",
          "model_module_version": "1.5.0",
          "state": {
            "_dom_classes": [],
            "_model_module": "@jupyter-widgets/controls",
            "_model_module_version": "1.5.0",
            "_model_name": "HTMLModel",
            "_view_count": null,
            "_view_module": "@jupyter-widgets/controls",
            "_view_module_version": "1.5.0",
            "_view_name": "HTMLView",
            "description": "",
            "description_tooltip": null,
            "layout": "IPY_MODEL_379e9a6f199f493aaf60bcfb85848c58",
            "placeholder": "​",
            "style": "IPY_MODEL_a6325c214f6b449db4ff9e0f3c6729c5",
            "value": "Downloading: 100%"
          }
        },
        "982ae54a37034d678e6b769eb3f00752": {
          "model_module": "@jupyter-widgets/controls",
          "model_name": "FloatProgressModel",
          "model_module_version": "1.5.0",
          "state": {
            "_dom_classes": [],
            "_model_module": "@jupyter-widgets/controls",
            "_model_module_version": "1.5.0",
            "_model_name": "FloatProgressModel",
            "_view_count": null,
            "_view_module": "@jupyter-widgets/controls",
            "_view_module_version": "1.5.0",
            "_view_name": "ProgressView",
            "bar_style": "success",
            "description": "",
            "description_tooltip": null,
            "layout": "IPY_MODEL_ea5aaf8f629842379a9c81cabe1abb69",
            "max": 666,
            "min": 0,
            "orientation": "horizontal",
            "style": "IPY_MODEL_c676f0c13519435398af4905e2fc45f4",
            "value": 666
          }
        },
        "5d78963339b64bf68ed04684e2cc275b": {
          "model_module": "@jupyter-widgets/controls",
          "model_name": "HTMLModel",
          "model_module_version": "1.5.0",
          "state": {
            "_dom_classes": [],
            "_model_module": "@jupyter-widgets/controls",
            "_model_module_version": "1.5.0",
            "_model_name": "HTMLModel",
            "_view_count": null,
            "_view_module": "@jupyter-widgets/controls",
            "_view_module_version": "1.5.0",
            "_view_name": "HTMLView",
            "description": "",
            "description_tooltip": null,
            "layout": "IPY_MODEL_f793eee973784f82989acb93b84612f4",
            "placeholder": "​",
            "style": "IPY_MODEL_f9be69e1ceb64eec81d61f1652ddf378",
            "value": " 666/666 [00:00&lt;00:00, 19.9kB/s]"
          }
        },
        "6e4501eafdae4378b99ff7bc83863625": {
          "model_module": "@jupyter-widgets/base",
          "model_name": "LayoutModel",
          "model_module_version": "1.2.0",
          "state": {
            "_model_module": "@jupyter-widgets/base",
            "_model_module_version": "1.2.0",
            "_model_name": "LayoutModel",
            "_view_count": null,
            "_view_module": "@jupyter-widgets/base",
            "_view_module_version": "1.2.0",
            "_view_name": "LayoutView",
            "align_content": null,
            "align_items": null,
            "align_self": null,
            "border": null,
            "bottom": null,
            "display": null,
            "flex": null,
            "flex_flow": null,
            "grid_area": null,
            "grid_auto_columns": null,
            "grid_auto_flow": null,
            "grid_auto_rows": null,
            "grid_column": null,
            "grid_gap": null,
            "grid_row": null,
            "grid_template_areas": null,
            "grid_template_columns": null,
            "grid_template_rows": null,
            "height": null,
            "justify_content": null,
            "justify_items": null,
            "left": null,
            "margin": null,
            "max_height": null,
            "max_width": null,
            "min_height": null,
            "min_width": null,
            "object_fit": null,
            "object_position": null,
            "order": null,
            "overflow": null,
            "overflow_x": null,
            "overflow_y": null,
            "padding": null,
            "right": null,
            "top": null,
            "visibility": null,
            "width": null
          }
        },
        "379e9a6f199f493aaf60bcfb85848c58": {
          "model_module": "@jupyter-widgets/base",
          "model_name": "LayoutModel",
          "model_module_version": "1.2.0",
          "state": {
            "_model_module": "@jupyter-widgets/base",
            "_model_module_version": "1.2.0",
            "_model_name": "LayoutModel",
            "_view_count": null,
            "_view_module": "@jupyter-widgets/base",
            "_view_module_version": "1.2.0",
            "_view_name": "LayoutView",
            "align_content": null,
            "align_items": null,
            "align_self": null,
            "border": null,
            "bottom": null,
            "display": null,
            "flex": null,
            "flex_flow": null,
            "grid_area": null,
            "grid_auto_columns": null,
            "grid_auto_flow": null,
            "grid_auto_rows": null,
            "grid_column": null,
            "grid_gap": null,
            "grid_row": null,
            "grid_template_areas": null,
            "grid_template_columns": null,
            "grid_template_rows": null,
            "height": null,
            "justify_content": null,
            "justify_items": null,
            "left": null,
            "margin": null,
            "max_height": null,
            "max_width": null,
            "min_height": null,
            "min_width": null,
            "object_fit": null,
            "object_position": null,
            "order": null,
            "overflow": null,
            "overflow_x": null,
            "overflow_y": null,
            "padding": null,
            "right": null,
            "top": null,
            "visibility": null,
            "width": null
          }
        },
        "a6325c214f6b449db4ff9e0f3c6729c5": {
          "model_module": "@jupyter-widgets/controls",
          "model_name": "DescriptionStyleModel",
          "model_module_version": "1.5.0",
          "state": {
            "_model_module": "@jupyter-widgets/controls",
            "_model_module_version": "1.5.0",
            "_model_name": "DescriptionStyleModel",
            "_view_count": null,
            "_view_module": "@jupyter-widgets/base",
            "_view_module_version": "1.2.0",
            "_view_name": "StyleView",
            "description_width": ""
          }
        },
        "ea5aaf8f629842379a9c81cabe1abb69": {
          "model_module": "@jupyter-widgets/base",
          "model_name": "LayoutModel",
          "model_module_version": "1.2.0",
          "state": {
            "_model_module": "@jupyter-widgets/base",
            "_model_module_version": "1.2.0",
            "_model_name": "LayoutModel",
            "_view_count": null,
            "_view_module": "@jupyter-widgets/base",
            "_view_module_version": "1.2.0",
            "_view_name": "LayoutView",
            "align_content": null,
            "align_items": null,
            "align_self": null,
            "border": null,
            "bottom": null,
            "display": null,
            "flex": null,
            "flex_flow": null,
            "grid_area": null,
            "grid_auto_columns": null,
            "grid_auto_flow": null,
            "grid_auto_rows": null,
            "grid_column": null,
            "grid_gap": null,
            "grid_row": null,
            "grid_template_areas": null,
            "grid_template_columns": null,
            "grid_template_rows": null,
            "height": null,
            "justify_content": null,
            "justify_items": null,
            "left": null,
            "margin": null,
            "max_height": null,
            "max_width": null,
            "min_height": null,
            "min_width": null,
            "object_fit": null,
            "object_position": null,
            "order": null,
            "overflow": null,
            "overflow_x": null,
            "overflow_y": null,
            "padding": null,
            "right": null,
            "top": null,
            "visibility": null,
            "width": null
          }
        },
        "c676f0c13519435398af4905e2fc45f4": {
          "model_module": "@jupyter-widgets/controls",
          "model_name": "ProgressStyleModel",
          "model_module_version": "1.5.0",
          "state": {
            "_model_module": "@jupyter-widgets/controls",
            "_model_module_version": "1.5.0",
            "_model_name": "ProgressStyleModel",
            "_view_count": null,
            "_view_module": "@jupyter-widgets/base",
            "_view_module_version": "1.2.0",
            "_view_name": "StyleView",
            "bar_color": null,
            "description_width": ""
          }
        },
        "f793eee973784f82989acb93b84612f4": {
          "model_module": "@jupyter-widgets/base",
          "model_name": "LayoutModel",
          "model_module_version": "1.2.0",
          "state": {
            "_model_module": "@jupyter-widgets/base",
            "_model_module_version": "1.2.0",
            "_model_name": "LayoutModel",
            "_view_count": null,
            "_view_module": "@jupyter-widgets/base",
            "_view_module_version": "1.2.0",
            "_view_name": "LayoutView",
            "align_content": null,
            "align_items": null,
            "align_self": null,
            "border": null,
            "bottom": null,
            "display": null,
            "flex": null,
            "flex_flow": null,
            "grid_area": null,
            "grid_auto_columns": null,
            "grid_auto_flow": null,
            "grid_auto_rows": null,
            "grid_column": null,
            "grid_gap": null,
            "grid_row": null,
            "grid_template_areas": null,
            "grid_template_columns": null,
            "grid_template_rows": null,
            "height": null,
            "justify_content": null,
            "justify_items": null,
            "left": null,
            "margin": null,
            "max_height": null,
            "max_width": null,
            "min_height": null,
            "min_width": null,
            "object_fit": null,
            "object_position": null,
            "order": null,
            "overflow": null,
            "overflow_x": null,
            "overflow_y": null,
            "padding": null,
            "right": null,
            "top": null,
            "visibility": null,
            "width": null
          }
        },
        "f9be69e1ceb64eec81d61f1652ddf378": {
          "model_module": "@jupyter-widgets/controls",
          "model_name": "DescriptionStyleModel",
          "model_module_version": "1.5.0",
          "state": {
            "_model_module": "@jupyter-widgets/controls",
            "_model_module_version": "1.5.0",
            "_model_name": "DescriptionStyleModel",
            "_view_count": null,
            "_view_module": "@jupyter-widgets/base",
            "_view_module_version": "1.2.0",
            "_view_name": "StyleView",
            "description_width": ""
          }
        },
        "0c5e5f75da4446dfbfb252ed9b5db30e": {
          "model_module": "@jupyter-widgets/controls",
          "model_name": "HBoxModel",
          "model_module_version": "1.5.0",
          "state": {
            "_dom_classes": [],
            "_model_module": "@jupyter-widgets/controls",
            "_model_module_version": "1.5.0",
            "_model_name": "HBoxModel",
            "_view_count": null,
            "_view_module": "@jupyter-widgets/controls",
            "_view_module_version": "1.5.0",
            "_view_name": "HBoxView",
            "box_style": "",
            "children": [
              "IPY_MODEL_9f520af19e03479aadc12f28ffc667a9",
              "IPY_MODEL_c18fbe7c350e450d8d11f914ae88c692",
              "IPY_MODEL_2e4f241b51644fd8a580106c4d122ba0"
            ],
            "layout": "IPY_MODEL_a9f5b723e4d5485c9a5fc6462e490d4a"
          }
        },
        "9f520af19e03479aadc12f28ffc667a9": {
          "model_module": "@jupyter-widgets/controls",
          "model_name": "HTMLModel",
          "model_module_version": "1.5.0",
          "state": {
            "_dom_classes": [],
            "_model_module": "@jupyter-widgets/controls",
            "_model_module_version": "1.5.0",
            "_model_name": "HTMLModel",
            "_view_count": null,
            "_view_module": "@jupyter-widgets/controls",
            "_view_module_version": "1.5.0",
            "_view_name": "HTMLView",
            "description": "",
            "description_tooltip": null,
            "layout": "IPY_MODEL_e9e7ad8f568e49d29fa131d350111572",
            "placeholder": "​",
            "style": "IPY_MODEL_fcd29b330d564b4ab050339f65a121fc",
            "value": "Downloading: 100%"
          }
        },
        "c18fbe7c350e450d8d11f914ae88c692": {
          "model_module": "@jupyter-widgets/controls",
          "model_name": "FloatProgressModel",
          "model_module_version": "1.5.0",
          "state": {
            "_dom_classes": [],
            "_model_module": "@jupyter-widgets/controls",
            "_model_module_version": "1.5.0",
            "_model_name": "FloatProgressModel",
            "_view_count": null,
            "_view_module": "@jupyter-widgets/controls",
            "_view_module_version": "1.5.0",
            "_view_name": "ProgressView",
            "bar_style": "success",
            "description": "",
            "description_tooltip": null,
            "layout": "IPY_MODEL_fcf0ebf713fe4989999e9faa499ad146",
            "max": 3247202234,
            "min": 0,
            "orientation": "horizontal",
            "style": "IPY_MODEL_b1fed413408a45229e999a29a125594e",
            "value": 3247202234
          }
        },
        "2e4f241b51644fd8a580106c4d122ba0": {
          "model_module": "@jupyter-widgets/controls",
          "model_name": "HTMLModel",
          "model_module_version": "1.5.0",
          "state": {
            "_dom_classes": [],
            "_model_module": "@jupyter-widgets/controls",
            "_model_module_version": "1.5.0",
            "_model_name": "HTMLModel",
            "_view_count": null,
            "_view_module": "@jupyter-widgets/controls",
            "_view_module_version": "1.5.0",
            "_view_name": "HTMLView",
            "description": "",
            "description_tooltip": null,
            "layout": "IPY_MODEL_7fe86d210e9b4cc59b1a113fca4fd18b",
            "placeholder": "​",
            "style": "IPY_MODEL_6eb44813a1c64cabb5691d6c7dac1056",
            "value": " 3.02G/3.02G [03:15&lt;00:00, 20.2MB/s]"
          }
        },
        "a9f5b723e4d5485c9a5fc6462e490d4a": {
          "model_module": "@jupyter-widgets/base",
          "model_name": "LayoutModel",
          "model_module_version": "1.2.0",
          "state": {
            "_model_module": "@jupyter-widgets/base",
            "_model_module_version": "1.2.0",
            "_model_name": "LayoutModel",
            "_view_count": null,
            "_view_module": "@jupyter-widgets/base",
            "_view_module_version": "1.2.0",
            "_view_name": "LayoutView",
            "align_content": null,
            "align_items": null,
            "align_self": null,
            "border": null,
            "bottom": null,
            "display": null,
            "flex": null,
            "flex_flow": null,
            "grid_area": null,
            "grid_auto_columns": null,
            "grid_auto_flow": null,
            "grid_auto_rows": null,
            "grid_column": null,
            "grid_gap": null,
            "grid_row": null,
            "grid_template_areas": null,
            "grid_template_columns": null,
            "grid_template_rows": null,
            "height": null,
            "justify_content": null,
            "justify_items": null,
            "left": null,
            "margin": null,
            "max_height": null,
            "max_width": null,
            "min_height": null,
            "min_width": null,
            "object_fit": null,
            "object_position": null,
            "order": null,
            "overflow": null,
            "overflow_x": null,
            "overflow_y": null,
            "padding": null,
            "right": null,
            "top": null,
            "visibility": null,
            "width": null
          }
        },
        "e9e7ad8f568e49d29fa131d350111572": {
          "model_module": "@jupyter-widgets/base",
          "model_name": "LayoutModel",
          "model_module_version": "1.2.0",
          "state": {
            "_model_module": "@jupyter-widgets/base",
            "_model_module_version": "1.2.0",
            "_model_name": "LayoutModel",
            "_view_count": null,
            "_view_module": "@jupyter-widgets/base",
            "_view_module_version": "1.2.0",
            "_view_name": "LayoutView",
            "align_content": null,
            "align_items": null,
            "align_self": null,
            "border": null,
            "bottom": null,
            "display": null,
            "flex": null,
            "flex_flow": null,
            "grid_area": null,
            "grid_auto_columns": null,
            "grid_auto_flow": null,
            "grid_auto_rows": null,
            "grid_column": null,
            "grid_gap": null,
            "grid_row": null,
            "grid_template_areas": null,
            "grid_template_columns": null,
            "grid_template_rows": null,
            "height": null,
            "justify_content": null,
            "justify_items": null,
            "left": null,
            "margin": null,
            "max_height": null,
            "max_width": null,
            "min_height": null,
            "min_width": null,
            "object_fit": null,
            "object_position": null,
            "order": null,
            "overflow": null,
            "overflow_x": null,
            "overflow_y": null,
            "padding": null,
            "right": null,
            "top": null,
            "visibility": null,
            "width": null
          }
        },
        "fcd29b330d564b4ab050339f65a121fc": {
          "model_module": "@jupyter-widgets/controls",
          "model_name": "DescriptionStyleModel",
          "model_module_version": "1.5.0",
          "state": {
            "_model_module": "@jupyter-widgets/controls",
            "_model_module_version": "1.5.0",
            "_model_name": "DescriptionStyleModel",
            "_view_count": null,
            "_view_module": "@jupyter-widgets/base",
            "_view_module_version": "1.2.0",
            "_view_name": "StyleView",
            "description_width": ""
          }
        },
        "fcf0ebf713fe4989999e9faa499ad146": {
          "model_module": "@jupyter-widgets/base",
          "model_name": "LayoutModel",
          "model_module_version": "1.2.0",
          "state": {
            "_model_module": "@jupyter-widgets/base",
            "_model_module_version": "1.2.0",
            "_model_name": "LayoutModel",
            "_view_count": null,
            "_view_module": "@jupyter-widgets/base",
            "_view_module_version": "1.2.0",
            "_view_name": "LayoutView",
            "align_content": null,
            "align_items": null,
            "align_self": null,
            "border": null,
            "bottom": null,
            "display": null,
            "flex": null,
            "flex_flow": null,
            "grid_area": null,
            "grid_auto_columns": null,
            "grid_auto_flow": null,
            "grid_auto_rows": null,
            "grid_column": null,
            "grid_gap": null,
            "grid_row": null,
            "grid_template_areas": null,
            "grid_template_columns": null,
            "grid_template_rows": null,
            "height": null,
            "justify_content": null,
            "justify_items": null,
            "left": null,
            "margin": null,
            "max_height": null,
            "max_width": null,
            "min_height": null,
            "min_width": null,
            "object_fit": null,
            "object_position": null,
            "order": null,
            "overflow": null,
            "overflow_x": null,
            "overflow_y": null,
            "padding": null,
            "right": null,
            "top": null,
            "visibility": null,
            "width": null
          }
        },
        "b1fed413408a45229e999a29a125594e": {
          "model_module": "@jupyter-widgets/controls",
          "model_name": "ProgressStyleModel",
          "model_module_version": "1.5.0",
          "state": {
            "_model_module": "@jupyter-widgets/controls",
            "_model_module_version": "1.5.0",
            "_model_name": "ProgressStyleModel",
            "_view_count": null,
            "_view_module": "@jupyter-widgets/base",
            "_view_module_version": "1.2.0",
            "_view_name": "StyleView",
            "bar_color": null,
            "description_width": ""
          }
        },
        "7fe86d210e9b4cc59b1a113fca4fd18b": {
          "model_module": "@jupyter-widgets/base",
          "model_name": "LayoutModel",
          "model_module_version": "1.2.0",
          "state": {
            "_model_module": "@jupyter-widgets/base",
            "_model_module_version": "1.2.0",
            "_model_name": "LayoutModel",
            "_view_count": null,
            "_view_module": "@jupyter-widgets/base",
            "_view_module_version": "1.2.0",
            "_view_name": "LayoutView",
            "align_content": null,
            "align_items": null,
            "align_self": null,
            "border": null,
            "bottom": null,
            "display": null,
            "flex": null,
            "flex_flow": null,
            "grid_area": null,
            "grid_auto_columns": null,
            "grid_auto_flow": null,
            "grid_auto_rows": null,
            "grid_column": null,
            "grid_gap": null,
            "grid_row": null,
            "grid_template_areas": null,
            "grid_template_columns": null,
            "grid_template_rows": null,
            "height": null,
            "justify_content": null,
            "justify_items": null,
            "left": null,
            "margin": null,
            "max_height": null,
            "max_width": null,
            "min_height": null,
            "min_width": null,
            "object_fit": null,
            "object_position": null,
            "order": null,
            "overflow": null,
            "overflow_x": null,
            "overflow_y": null,
            "padding": null,
            "right": null,
            "top": null,
            "visibility": null,
            "width": null
          }
        },
        "6eb44813a1c64cabb5691d6c7dac1056": {
          "model_module": "@jupyter-widgets/controls",
          "model_name": "DescriptionStyleModel",
          "model_module_version": "1.5.0",
          "state": {
            "_model_module": "@jupyter-widgets/controls",
            "_model_module_version": "1.5.0",
            "_model_name": "DescriptionStyleModel",
            "_view_count": null,
            "_view_module": "@jupyter-widgets/base",
            "_view_module_version": "1.2.0",
            "_view_name": "StyleView",
            "description_width": ""
          }
        }
      }
    }
  },
  "cells": [
    {
      "cell_type": "markdown",
      "metadata": {
        "id": "view-in-github",
        "colab_type": "text"
      },
      "source": [
        "<a href=\"https://colab.research.google.com/github/clam004/case/blob/main/Load_Training_Data.ipynb\" target=\"_parent\"><img src=\"https://colab.research.google.com/assets/colab-badge.svg\" alt=\"Open In Colab\"/></a>"
      ]
    },
    {
      "cell_type": "code",
      "execution_count": 10,
      "metadata": {
        "colab": {
          "base_uri": "https://localhost:8080/"
        },
        "id": "tQWTjdGapx4g",
        "outputId": "09eac710-5b53-48f3-f7ad-cd25d563df58"
      },
      "outputs": [
        {
          "output_type": "stream",
          "name": "stdout",
          "text": [
            "Drive already mounted at /content/drive; to attempt to forcibly remount, call drive.mount(\"/content/drive\", force_remount=True).\n",
            "/content/drive/MyDrive/case\n",
            "ACES.ipynb\t\t  modelstates  T0_3B_dialog_summarization.ipynb\n",
            "data\t\t\t  __pycache__  Training_Data.xlsx\n",
            "Load_Training_Data.ipynb  sol.ipynb    utils.py\n"
          ]
        }
      ],
      "source": [
        "# Mount to my google drive which is where ive stored the data\n",
        "from google.colab import drive\n",
        "drive.mount('/content/drive')\n",
        "%cd drive/MyDrive/case\n",
        "!ls"
      ]
    },
    {
      "cell_type": "code",
      "source": [
        "import pandas as pd\n",
        "\n",
        "df = pd.read_excel('Training_Data.xlsx')\n",
        "\n",
        "print(df.columns)\n",
        "\n",
        "df.head()"
      ],
      "metadata": {
        "colab": {
          "base_uri": "https://localhost:8080/",
          "height": 224
        },
        "id": "mRrg2eYEp5AF",
        "outputId": "a4e15266-6176-410a-d9d9-52c9794d76ca"
      },
      "execution_count": 11,
      "outputs": [
        {
          "output_type": "stream",
          "name": "stdout",
          "text": [
            "Index(['Text', 'Label'], dtype='object')\n"
          ]
        },
        {
          "output_type": "execute_result",
          "data": {
            "text/plain": [
              "                                     Text      Label\n",
              "0  i just fell this morning in my kitchen  emergency\n",
              "1              i see no reason for living  emergency\n",
              "2   i fell in love when i was a young man    neutral\n",
              "3          coffee is my reason for living    neutral\n",
              "4       my afternoon meal is 3 hours late  emergency"
            ],
            "text/html": [
              "\n",
              "  <div id=\"df-5fa2cdb8-aca2-49b7-85d9-b7195b6a666e\">\n",
              "    <div class=\"colab-df-container\">\n",
              "      <div>\n",
              "<style scoped>\n",
              "    .dataframe tbody tr th:only-of-type {\n",
              "        vertical-align: middle;\n",
              "    }\n",
              "\n",
              "    .dataframe tbody tr th {\n",
              "        vertical-align: top;\n",
              "    }\n",
              "\n",
              "    .dataframe thead th {\n",
              "        text-align: right;\n",
              "    }\n",
              "</style>\n",
              "<table border=\"1\" class=\"dataframe\">\n",
              "  <thead>\n",
              "    <tr style=\"text-align: right;\">\n",
              "      <th></th>\n",
              "      <th>Text</th>\n",
              "      <th>Label</th>\n",
              "    </tr>\n",
              "  </thead>\n",
              "  <tbody>\n",
              "    <tr>\n",
              "      <th>0</th>\n",
              "      <td>i just fell this morning in my kitchen</td>\n",
              "      <td>emergency</td>\n",
              "    </tr>\n",
              "    <tr>\n",
              "      <th>1</th>\n",
              "      <td>i see no reason for living</td>\n",
              "      <td>emergency</td>\n",
              "    </tr>\n",
              "    <tr>\n",
              "      <th>2</th>\n",
              "      <td>i fell in love when i was a young man</td>\n",
              "      <td>neutral</td>\n",
              "    </tr>\n",
              "    <tr>\n",
              "      <th>3</th>\n",
              "      <td>coffee is my reason for living</td>\n",
              "      <td>neutral</td>\n",
              "    </tr>\n",
              "    <tr>\n",
              "      <th>4</th>\n",
              "      <td>my afternoon meal is 3 hours late</td>\n",
              "      <td>emergency</td>\n",
              "    </tr>\n",
              "  </tbody>\n",
              "</table>\n",
              "</div>\n",
              "      <button class=\"colab-df-convert\" onclick=\"convertToInteractive('df-5fa2cdb8-aca2-49b7-85d9-b7195b6a666e')\"\n",
              "              title=\"Convert this dataframe to an interactive table.\"\n",
              "              style=\"display:none;\">\n",
              "        \n",
              "  <svg xmlns=\"http://www.w3.org/2000/svg\" height=\"24px\"viewBox=\"0 0 24 24\"\n",
              "       width=\"24px\">\n",
              "    <path d=\"M0 0h24v24H0V0z\" fill=\"none\"/>\n",
              "    <path d=\"M18.56 5.44l.94 2.06.94-2.06 2.06-.94-2.06-.94-.94-2.06-.94 2.06-2.06.94zm-11 1L8.5 8.5l.94-2.06 2.06-.94-2.06-.94L8.5 2.5l-.94 2.06-2.06.94zm10 10l.94 2.06.94-2.06 2.06-.94-2.06-.94-.94-2.06-.94 2.06-2.06.94z\"/><path d=\"M17.41 7.96l-1.37-1.37c-.4-.4-.92-.59-1.43-.59-.52 0-1.04.2-1.43.59L10.3 9.45l-7.72 7.72c-.78.78-.78 2.05 0 2.83L4 21.41c.39.39.9.59 1.41.59.51 0 1.02-.2 1.41-.59l7.78-7.78 2.81-2.81c.8-.78.8-2.07 0-2.86zM5.41 20L4 18.59l7.72-7.72 1.47 1.35L5.41 20z\"/>\n",
              "  </svg>\n",
              "      </button>\n",
              "      \n",
              "  <style>\n",
              "    .colab-df-container {\n",
              "      display:flex;\n",
              "      flex-wrap:wrap;\n",
              "      gap: 12px;\n",
              "    }\n",
              "\n",
              "    .colab-df-convert {\n",
              "      background-color: #E8F0FE;\n",
              "      border: none;\n",
              "      border-radius: 50%;\n",
              "      cursor: pointer;\n",
              "      display: none;\n",
              "      fill: #1967D2;\n",
              "      height: 32px;\n",
              "      padding: 0 0 0 0;\n",
              "      width: 32px;\n",
              "    }\n",
              "\n",
              "    .colab-df-convert:hover {\n",
              "      background-color: #E2EBFA;\n",
              "      box-shadow: 0px 1px 2px rgba(60, 64, 67, 0.3), 0px 1px 3px 1px rgba(60, 64, 67, 0.15);\n",
              "      fill: #174EA6;\n",
              "    }\n",
              "\n",
              "    [theme=dark] .colab-df-convert {\n",
              "      background-color: #3B4455;\n",
              "      fill: #D2E3FC;\n",
              "    }\n",
              "\n",
              "    [theme=dark] .colab-df-convert:hover {\n",
              "      background-color: #434B5C;\n",
              "      box-shadow: 0px 1px 3px 1px rgba(0, 0, 0, 0.15);\n",
              "      filter: drop-shadow(0px 1px 2px rgba(0, 0, 0, 0.3));\n",
              "      fill: #FFFFFF;\n",
              "    }\n",
              "  </style>\n",
              "\n",
              "      <script>\n",
              "        const buttonEl =\n",
              "          document.querySelector('#df-5fa2cdb8-aca2-49b7-85d9-b7195b6a666e button.colab-df-convert');\n",
              "        buttonEl.style.display =\n",
              "          google.colab.kernel.accessAllowed ? 'block' : 'none';\n",
              "\n",
              "        async function convertToInteractive(key) {\n",
              "          const element = document.querySelector('#df-5fa2cdb8-aca2-49b7-85d9-b7195b6a666e');\n",
              "          const dataTable =\n",
              "            await google.colab.kernel.invokeFunction('convertToInteractive',\n",
              "                                                     [key], {});\n",
              "          if (!dataTable) return;\n",
              "\n",
              "          const docLinkHtml = 'Like what you see? Visit the ' +\n",
              "            '<a target=\"_blank\" href=https://colab.research.google.com/notebooks/data_table.ipynb>data table notebook</a>'\n",
              "            + ' to learn more about interactive tables.';\n",
              "          element.innerHTML = '';\n",
              "          dataTable['output_type'] = 'display_data';\n",
              "          await google.colab.output.renderOutput(dataTable, element);\n",
              "          const docLink = document.createElement('div');\n",
              "          docLink.innerHTML = docLinkHtml;\n",
              "          element.appendChild(docLink);\n",
              "        }\n",
              "      </script>\n",
              "    </div>\n",
              "  </div>\n",
              "  "
            ]
          },
          "metadata": {},
          "execution_count": 11
        }
      ]
    },
    {
      "cell_type": "code",
      "source": [
        "import random\n",
        "\n",
        "records = df.to_records(index=False)\n",
        "result = list(records)\n",
        "\n",
        "random.shuffle(result)\n",
        "\n",
        "val_list = result[:int(len(result)*.3)]\n",
        "train_list = result[int(len(result)*.3):]\n",
        "\n",
        "val_list"
      ],
      "metadata": {
        "colab": {
          "base_uri": "https://localhost:8080/"
        },
        "id": "gvdBdQoBv91A",
        "outputId": "ef785f22-f040-40ff-db76-05611d5abc4e"
      },
      "execution_count": 12,
      "outputs": [
        {
          "output_type": "execute_result",
          "data": {
            "text/plain": [
              "[('I fell asleep on the couch ', 'neutral '),\n",
              " ('i see no reason for living', 'emergency'),\n",
              " ('my dog hasnt been eating', 'neutral '),\n",
              " (\"I'm having an allergic attack. Help!\", 'emergency'),\n",
              " ('My neighbor hurt my feelings today ', 'neutral '),\n",
              " ('i ran out of my meds today', 'emergency'),\n",
              " ('i just fell this morning in my kitchen', 'emergency'),\n",
              " ('im dying for some pizza', 'neutral '),\n",
              " ('i am out of my medications', 'emergency'),\n",
              " ('i like my toast slightly burned', 'neutral'),\n",
              " (\"my nurse hasn't come yet and it's been an hour\", 'emergency'),\n",
              " ('I slipped in the bathroom', 'emergency'),\n",
              " ('i spent all night throwing up', 'emergency'),\n",
              " ('the tv shows are so violent these days', 'neutral ')]"
            ]
          },
          "metadata": {},
          "execution_count": 12
        }
      ]
    },
    {
      "cell_type": "code",
      "source": [
        "train_list"
      ],
      "metadata": {
        "colab": {
          "base_uri": "https://localhost:8080/"
        },
        "id": "hV6ceVl_xf8k",
        "outputId": "b458e844-4e0e-494e-f17b-8bb8560479b9"
      },
      "execution_count": 13,
      "outputs": [
        {
          "output_type": "execute_result",
          "data": {
            "text/plain": [
              "[('i enjoy a late night snack', 'neutral'),\n",
              " ('She had me rolling on the floor laughing', 'neutral'),\n",
              " ('i feel out out breath walking up the stairs', 'neutral'),\n",
              " ('I am having a heart attack', 'emergency'),\n",
              " ('I like the show how to get away with murder', 'neutral'),\n",
              " (\"It's very common to have some allergies during summer\", 'neutral'),\n",
              " ('i feel out of breath just walking to the kitchen', 'emergency'),\n",
              " ('that music makes me feel like throwing up', 'neutral'),\n",
              " ('i am finding it harder to breathe today', 'emergency'),\n",
              " ('coffee is my reason for living', 'neutral'),\n",
              " ('my legs are more red swollen and painful today', 'emergency'),\n",
              " ('my afternoon meal is 3 hours late', 'emergency'),\n",
              " ('I will die if someone tickled me that way ', 'neutral '),\n",
              " ('I cut myself while cooking and its bleeding', 'emergency'),\n",
              " ('I like the song Killing me softly ', 'neutral'),\n",
              " ('the red sox got run over by the yankees', 'neutral'),\n",
              " ('i will kill for some nachos', 'neutral '),\n",
              " ('After hearing her story I felt sick to my stomach', 'neutral'),\n",
              " ('on the news i saw that someone was hit by a car', 'neutral'),\n",
              " ('I was supposed to go to the grocery but it slipped my mind. ', 'neutral '),\n",
              " ('i bumped my head with the sidewalk', 'emergency'),\n",
              " ('my legs have been swollen for years', 'neutral'),\n",
              " ('I am having diarrhea', 'emergency'),\n",
              " ('i dreamt i ran into my favorite singer', 'neutral'),\n",
              " ('I laughed so hard that I almost peed my pants. ', 'neutral'),\n",
              " ('Without mexican food I will die', 'neutral '),\n",
              " ('my son has been hitting me', 'emergency'),\n",
              " ('i bumped into my neighbor', 'neutral'),\n",
              " ('My cat attacked a bird outside my house', 'neutral '),\n",
              " ('i fell down on the driveway', 'emergency'),\n",
              " ('i think i hurt my wrist while working on my yard', 'emergency'),\n",
              " ('i just got run over by a car', 'emergency'),\n",
              " ('i fell in love when i was a young man', 'neutral'),\n",
              " ('My house is being attacked', 'emergency'),\n",
              " ('My grandchildren will give me a heart attack', 'neutral ')]"
            ]
          },
          "metadata": {},
          "execution_count": 13
        }
      ]
    },
    {
      "cell_type": "code",
      "source": [
        "random.choices(train_list, k=4)"
      ],
      "metadata": {
        "colab": {
          "base_uri": "https://localhost:8080/"
        },
        "id": "OKGe8-lvyyBN",
        "outputId": "a9e2a606-c48d-4437-d27d-3784723d2a61"
      },
      "execution_count": 14,
      "outputs": [
        {
          "output_type": "execute_result",
          "data": {
            "text/plain": [
              "[('I laughed so hard that I almost peed my pants. ', 'neutral'),\n",
              " ('i bumped into my neighbor', 'neutral'),\n",
              " ('my legs have been swollen for years', 'neutral'),\n",
              " ('my legs have been swollen for years', 'neutral')]"
            ]
          },
          "metadata": {},
          "execution_count": 14
        }
      ]
    },
    {
      "cell_type": "code",
      "source": [
        "def end_punctuation(utter):\n",
        "    \n",
        "    if utter[-1] not in [\"?\",\"!\",\".\"]:\n",
        "        utter+=\".\"\n",
        "        \n",
        "    return utter\n",
        "\n",
        "def get_detection_prompt(\n",
        "    query_text,\n",
        "    few_shot_list,\n",
        "    example_symbol = 'Text: ', \n",
        "    label_symbol = 'Label: ', \n",
        "    sample_separator = '###', \n",
        "    join_separator = '\\n', \n",
        "):\n",
        "    \n",
        "    detect_prompt = []\n",
        "    \n",
        "    for xy in few_shot_list:\n",
        "        \n",
        "        x = end_punctuation(xy[0].strip())\n",
        "        y = end_punctuation(xy[1].strip())\n",
        "        \n",
        "        detect_prompt.append(example_symbol+x)\n",
        "        detect_prompt.append(label_symbol+y)\n",
        "        detect_prompt.append(sample_separator)\n",
        "\n",
        "    query_text = end_punctuation(query_text.strip())\n",
        "    \n",
        "    detect_prompt.append(example_symbol+query_text)\n",
        "    detect_prompt.append(label_symbol)\n",
        "    \n",
        "    return join_separator.join(detect_prompt)"
      ],
      "metadata": {
        "id": "AiVHH_lmvB3Y"
      },
      "execution_count": 15,
      "outputs": []
    },
    {
      "cell_type": "code",
      "source": [
        "concat_prompt = ''\n",
        "\n",
        "for i in range(len(train_list)):\n",
        "\n",
        "  few_shot_list = random.choices(train_list, k=2)\n",
        "\n",
        "  prompt = get_detection_prompt(\n",
        "      query_text = train_list[i][0],\n",
        "      few_shot_list = few_shot_list,\n",
        "  )\n",
        "\n",
        "  prompt += train_list[i][1]\n",
        "  concat_prompt += prompt+'.\\n###\\n'\n",
        "\n",
        "concat_prompt"
      ],
      "metadata": {
        "colab": {
          "base_uri": "https://localhost:8080/",
          "height": 125
        },
        "id": "Bp-bom2synCU",
        "outputId": "89d64127-c908-4bc1-cd05-3ae9d7e8c0c6"
      },
      "execution_count": 16,
      "outputs": [
        {
          "output_type": "execute_result",
          "data": {
            "text/plain": [
              "\"Text: My cat attacked a bird outside my house.\\nLabel: neutral.\\n###\\nText: my afternoon meal is 3 hours late.\\nLabel: emergency.\\n###\\nText: i enjoy a late night snack.\\nLabel: neutral.\\n###\\nText: Without mexican food I will die.\\nLabel: neutral.\\n###\\nText: I laughed so hard that I almost peed my pants.\\nLabel: neutral.\\n###\\nText: She had me rolling on the floor laughing.\\nLabel: neutral.\\n###\\nText: i feel out out breath walking up the stairs.\\nLabel: neutral.\\n###\\nText: i fell in love when i was a young man.\\nLabel: neutral.\\n###\\nText: i feel out out breath walking up the stairs.\\nLabel: neutral.\\n###\\nText: that music makes me feel like throwing up.\\nLabel: neutral.\\n###\\nText: My cat attacked a bird outside my house.\\nLabel: neutral.\\n###\\nText: I am having a heart attack.\\nLabel: emergency.\\n###\\nText: I like the show how to get away with murder.\\nLabel: neutral.\\n###\\nText: I was supposed to go to the grocery but it slipped my mind.\\nLabel: neutral.\\n###\\nText: I like the show how to get away with murder.\\nLabel: neutral.\\n###\\nText: I am having a heart attack.\\nLabel: emergency.\\n###\\nText: My grandchildren will give me a heart attack.\\nLabel: neutral.\\n###\\nText: It's very common to have some allergies during summer.\\nLabel: neutral.\\n###\\nText: i think i hurt my wrist while working on my yard.\\nLabel: emergency.\\n###\\nText: My grandchildren will give me a heart attack.\\nLabel: neutral.\\n###\\nText: i feel out of breath just walking to the kitchen.\\nLabel: emergency.\\n###\\nText: After hearing her story I felt sick to my stomach.\\nLabel: neutral.\\n###\\nText: my legs are more red swollen and painful today.\\nLabel: emergency.\\n###\\nText: that music makes me feel like throwing up.\\nLabel: neutral.\\n###\\nText: my legs are more red swollen and painful today.\\nLabel: emergency.\\n###\\nText: I like the show how to get away with murder.\\nLabel: neutral.\\n###\\nText: i am finding it harder to breathe today.\\nLabel: emergency.\\n###\\nText: my afternoon meal is 3 hours late.\\nLabel: emergency.\\n###\\nText: i fell in love when i was a young man.\\nLabel: neutral.\\n###\\nText: coffee is my reason for living.\\nLabel: neutral.\\n###\\nText: that music makes me feel like throwing up.\\nLabel: neutral.\\n###\\nText: i bumped into my neighbor.\\nLabel: neutral.\\n###\\nText: my legs are more red swollen and painful today.\\nLabel: emergency.\\n###\\nText: I was supposed to go to the grocery but it slipped my mind.\\nLabel: neutral.\\n###\\nText: my legs are more red swollen and painful today.\\nLabel: emergency.\\n###\\nText: my afternoon meal is 3 hours late.\\nLabel: emergency.\\n###\\nText: I am having a heart attack.\\nLabel: emergency.\\n###\\nText: i bumped into my neighbor.\\nLabel: neutral.\\n###\\nText: I will die if someone tickled me that way.\\nLabel: neutral .\\n###\\nText: my afternoon meal is 3 hours late.\\nLabel: emergency.\\n###\\nText: i am finding it harder to breathe today.\\nLabel: emergency.\\n###\\nText: I cut myself while cooking and its bleeding.\\nLabel: emergency.\\n###\\nText: i feel out of breath just walking to the kitchen.\\nLabel: emergency.\\n###\\nText: My cat attacked a bird outside my house.\\nLabel: neutral.\\n###\\nText: I like the song Killing me softly.\\nLabel: neutral.\\n###\\nText: She had me rolling on the floor laughing.\\nLabel: neutral.\\n###\\nText: My grandchildren will give me a heart attack.\\nLabel: neutral.\\n###\\nText: the red sox got run over by the yankees.\\nLabel: neutral.\\n###\\nText: coffee is my reason for living.\\nLabel: neutral.\\n###\\nText: i feel out out breath walking up the stairs.\\nLabel: neutral.\\n###\\nText: i will kill for some nachos.\\nLabel: neutral .\\n###\\nText: i dreamt i ran into my favorite singer.\\nLabel: neutral.\\n###\\nText: I like the show how to get away with murder.\\nLabel: neutral.\\n###\\nText: After hearing her story I felt sick to my stomach.\\nLabel: neutral.\\n###\\nText: It's very common to have some allergies during summer.\\nLabel: neutral.\\n###\\nText: She had me rolling on the floor laughing.\\nLabel: neutral.\\n###\\nText: on the news i saw that someone was hit by a car.\\nLabel: neutral.\\n###\\nText: i feel out out breath walking up the stairs.\\nLabel: neutral.\\n###\\nText: I laughed so hard that I almost peed my pants.\\nLabel: neutral.\\n###\\nText: I was supposed to go to the grocery but it slipped my mind.\\nLabel: neutral .\\n###\\nText: i fell down on the driveway.\\nLabel: emergency.\\n###\\nText: i dreamt i ran into my favorite singer.\\nLabel: neutral.\\n###\\nText: i bumped my head with the sidewalk.\\nLabel: emergency.\\n###\\nText: i fell down on the driveway.\\nLabel: emergency.\\n###\\nText: on the news i saw that someone was hit by a car.\\nLabel: neutral.\\n###\\nText: my legs have been swollen for years.\\nLabel: neutral.\\n###\\nText: on the news i saw that someone was hit by a car.\\nLabel: neutral.\\n###\\nText: i am finding it harder to breathe today.\\nLabel: emergency.\\n###\\nText: I am having diarrhea.\\nLabel: emergency.\\n###\\nText: that music makes me feel like throwing up.\\nLabel: neutral.\\n###\\nText: i dreamt i ran into my favorite singer.\\nLabel: neutral.\\n###\\nText: i dreamt i ran into my favorite singer.\\nLabel: neutral.\\n###\\nText: My cat attacked a bird outside my house.\\nLabel: neutral.\\n###\\nText: I like the song Killing me softly.\\nLabel: neutral.\\n###\\nText: I laughed so hard that I almost peed my pants.\\nLabel: neutral.\\n###\\nText: coffee is my reason for living.\\nLabel: neutral.\\n###\\nText: After hearing her story I felt sick to my stomach.\\nLabel: neutral.\\n###\\nText: Without mexican food I will die.\\nLabel: neutral .\\n###\\nText: I am having diarrhea.\\nLabel: emergency.\\n###\\nText: I laughed so hard that I almost peed my pants.\\nLabel: neutral.\\n###\\nText: my son has been hitting me.\\nLabel: emergency.\\n###\\nText: My grandchildren will give me a heart attack.\\nLabel: neutral.\\n###\\nText: I will die if someone tickled me that way.\\nLabel: neutral.\\n###\\nText: i bumped into my neighbor.\\nLabel: neutral.\\n###\\nText: my afternoon meal is 3 hours late.\\nLabel: emergency.\\n###\\nText: I like the show how to get away with murder.\\nLabel: neutral.\\n###\\nText: My cat attacked a bird outside my house.\\nLabel: neutral .\\n###\\nText: i bumped my head with the sidewalk.\\nLabel: emergency.\\n###\\nText: my afternoon meal is 3 hours late.\\nLabel: emergency.\\n###\\nText: i fell down on the driveway.\\nLabel: emergency.\\n###\\nText: i feel out of breath just walking to the kitchen.\\nLabel: emergency.\\n###\\nText: i enjoy a late night snack.\\nLabel: neutral.\\n###\\nText: i think i hurt my wrist while working on my yard.\\nLabel: emergency.\\n###\\nText: coffee is my reason for living.\\nLabel: neutral.\\n###\\nText: I laughed so hard that I almost peed my pants.\\nLabel: neutral.\\n###\\nText: i just got run over by a car.\\nLabel: emergency.\\n###\\nText: I cut myself while cooking and its bleeding.\\nLabel: emergency.\\n###\\nText: It's very common to have some allergies during summer.\\nLabel: neutral.\\n###\\nText: i fell in love when i was a young man.\\nLabel: neutral.\\n###\\nText: I like the song Killing me softly.\\nLabel: neutral.\\n###\\nText: i feel out out breath walking up the stairs.\\nLabel: neutral.\\n###\\nText: My house is being attacked.\\nLabel: emergency.\\n###\\nText: i bumped into my neighbor.\\nLabel: neutral.\\n###\\nText: i fell down on the driveway.\\nLabel: emergency.\\n###\\nText: My grandchildren will give me a heart attack.\\nLabel: neutral .\\n###\\n\""
            ],
            "application/vnd.google.colaboratory.intrinsic+json": {
              "type": "string"
            }
          },
          "metadata": {},
          "execution_count": 16
        }
      ]
    },
    {
      "cell_type": "code",
      "source": [
        "# load dependencies into our python environment\n",
        "%%capture\n",
        "! pip install transformers[sentencepiece]"
      ],
      "metadata": {
        "id": "Z09tJtRrs5Kk"
      },
      "execution_count": 17,
      "outputs": []
    },
    {
      "cell_type": "code",
      "source": [
        "#sys libs\n",
        "import os\n",
        "import sys\n",
        "import random\n",
        "import time\n",
        "import re\n",
        "import json\n",
        "\n",
        "#string manupulation libs\n",
        "import re\n",
        "import string\n",
        "\n",
        "#data manupulation libs\n",
        "import numpy as np\n",
        "\n",
        "#plotting tools\n",
        "from matplotlib import pyplot as plt \n",
        "\n",
        "#torch libs\n",
        "import torch\n",
        "print('torch.__version__', torch.__version__)\n",
        "from torch.utils.data import DataLoader, Dataset\n",
        "import torch.nn as nn\n",
        "import torch.optim as optim\n",
        "import torch.nn.functional as F\n",
        "\n",
        "print('torch.cuda.device_count()', torch.cuda.device_count())\n",
        "print('torch.cuda.empty_cache()', torch.cuda.empty_cache())\n",
        "\n",
        "#huggingface transformers\n",
        "import transformers\n",
        "print('transformers.__version__', transformers.__version__)\n",
        "from transformers import set_seed\n",
        "from transformers import GPT2Tokenizer, GPT2LMHeadModel\n",
        "\n",
        "# seeds\n",
        "set_seed(42)\n",
        "np.random.seed(0)\n",
        "random.seed(0)\n",
        "torch.manual_seed(0)\n",
        "\n",
        "%load_ext autoreload\n",
        "%autoreload 2\n",
        "%matplotlib inline"
      ],
      "metadata": {
        "colab": {
          "base_uri": "https://localhost:8080/"
        },
        "id": "5e5rNZIrqMtb",
        "outputId": "5e59185f-03e5-4c0f-b4bd-9f4e008b7559"
      },
      "execution_count": 18,
      "outputs": [
        {
          "output_type": "stream",
          "name": "stdout",
          "text": [
            "torch.__version__ 1.11.0+cu113\n",
            "torch.cuda.device_count() 1\n",
            "torch.cuda.empty_cache() None\n",
            "transformers.__version__ 4.20.1\n",
            "The autoreload extension is already loaded. To reload it, use:\n",
            "  %reload_ext autoreload\n"
          ]
        }
      ]
    },
    {
      "cell_type": "code",
      "source": [
        "pretrained_model = 'gpt2-large'#'gpt2-xl'#'gpt2'\n",
        "tokenizer = GPT2Tokenizer.from_pretrained(pretrained_model)"
      ],
      "metadata": {
        "id": "DuEDCk0LsxPU"
      },
      "execution_count": 19,
      "outputs": []
    },
    {
      "cell_type": "code",
      "source": [
        "class EmotionDataset(Dataset):\n",
        "\n",
        "    def __init__(self, tuple_list, tokenizer, chunk_size = 256):\n",
        "\n",
        "        self.input_ids = []\n",
        "        self.attn_masks = []\n",
        "        self.input_token_lens = []\n",
        "\n",
        "        def get_prompt(tuple_list, i):\n",
        "\n",
        "            few_shot_list = random.choices(tuple_list, k=4)\n",
        "\n",
        "            prompt = get_detection_prompt(\n",
        "                query_text = tuple_list[i][0],\n",
        "                few_shot_list = few_shot_list,\n",
        "            )\n",
        "\n",
        "            prompt += tuple_list[i][1]\n",
        "\n",
        "            encodings_dict = tokenizer(prompt, return_tensors=\"pt\")\n",
        "\n",
        "            input_ids = encodings_dict['input_ids']    \n",
        "            attention_mask = encodings_dict['attention_mask']\n",
        "            input_token_len = input_ids.shape[1]\n",
        "\n",
        "            return input_ids, attention_mask, input_token_len\n",
        "\n",
        "        for i in range(len(tuple_list)):\n",
        "            unfilled_chunk = True\n",
        "\n",
        "            input_ids = torch.zeros(1, 0)\n",
        "            attention_mask = torch.zeros(1, 0)\n",
        "            input_token_len = 0\n",
        "\n",
        "            while unfilled_chunk:\n",
        "\n",
        "              input_ids_, attention_mask_, input_token_len_ = \\\n",
        "                get_prompt(tuple_list, i)\n",
        "              self.input_token_lens.append(input_token_len_)\n",
        "\n",
        "              input_token_len += input_token_len_\n",
        "              input_ids = torch.cat([input_ids, input_ids_], dim=1)\n",
        "              attention_mask = torch.cat([attention_mask, attention_mask_], dim=1)\n",
        "\n",
        "              if input_token_len > chunk_size:\n",
        "                input_ids = input_ids[:,:chunk_size]\n",
        "                attention_mask = attention_mask[:,:chunk_size]\n",
        "                unfilled_chunk = False\n",
        "\n",
        "            self.input_ids.append(input_ids.long())\n",
        "            self.attn_masks.append(attention_mask.long())\n",
        "\n",
        "        print('mean', np.mean(self.input_token_lens), 'min', min(self.input_token_lens), 'max', max(self.input_token_lens))\n",
        "\n",
        "    def __len__(self):\n",
        "        return len(self.input_ids)\n",
        "\n",
        "    def __getitem__(self, idx):\n",
        "        return self.input_ids[idx], self.attn_masks[idx]"
      ],
      "metadata": {
        "id": "82w6d_hotHc6"
      },
      "execution_count": 20,
      "outputs": []
    },
    {
      "cell_type": "code",
      "source": [
        "traindata = EmotionDataset(train_list, tokenizer, chunk_size = 128)"
      ],
      "metadata": {
        "colab": {
          "base_uri": "https://localhost:8080/"
        },
        "id": "bbI4RPlz2uSO",
        "outputId": "694172a0-46d2-4fbc-f190-31e25b943af7"
      },
      "execution_count": 21,
      "outputs": [
        {
          "output_type": "stream",
          "name": "stdout",
          "text": [
            "mean 92.17142857142858 min 82 max 102\n"
          ]
        }
      ]
    },
    {
      "cell_type": "code",
      "source": [
        "tokenizer.batch_decode(traindata.__getitem__(0)[0])"
      ],
      "metadata": {
        "colab": {
          "base_uri": "https://localhost:8080/"
        },
        "id": "NEviNEkEYzWM",
        "outputId": "6c8acb0a-a862-4b30-c443-99b17b68c2e1"
      },
      "execution_count": 22,
      "outputs": [
        {
          "output_type": "execute_result",
          "data": {
            "text/plain": [
              "['Text: i fell down on the driveway.\\nLabel: emergency.\\n###\\nText: my son has been hitting me.\\nLabel: emergency.\\n###\\nText: I like the song Killing me softly.\\nLabel: neutral.\\n###\\nText: coffee is my reason for living.\\nLabel: neutral.\\n###\\nText: i enjoy a late night snack.\\nLabel: neutralText: After hearing her story I felt sick to my stomach.\\nLabel: neutral.\\n###\\nText: I like the song Killing me softly.\\nLabel: neutral.\\n###\\nText: i bumped into my neighbor']"
            ]
          },
          "metadata": {},
          "execution_count": 22
        }
      ]
    },
    {
      "cell_type": "code",
      "source": [
        "from torch.utils.data import DataLoader, Dataset, RandomSampler, SequentialSampler\n",
        "\n",
        "batch_size = 4\n",
        "\n",
        "# Take training samples in random order. \n",
        "train_dataloader = DataLoader(\n",
        "    traindata,  # The training samples.\n",
        "    sampler = RandomSampler(traindata), # Select batches randomly. \n",
        "    batch_size = batch_size # Trains with this batch size.\n",
        ")\n",
        "\n",
        "for batch_idx, samples in enumerate(train_dataloader):\n",
        "\n",
        "      break\n",
        "\n",
        "samples[0].squeeze(1).shape"
      ],
      "metadata": {
        "colab": {
          "base_uri": "https://localhost:8080/"
        },
        "id": "owDA-DT-UDL5",
        "outputId": "bc8e8259-d7a6-49ab-dcff-e01610f45101"
      },
      "execution_count": 23,
      "outputs": [
        {
          "output_type": "execute_result",
          "data": {
            "text/plain": [
              "torch.Size([4, 128])"
            ]
          },
          "metadata": {},
          "execution_count": 23
        }
      ]
    },
    {
      "cell_type": "code",
      "source": [
        "#sys libs\n",
        "import os\n",
        "import sys\n",
        "import random\n",
        "import time\n",
        "import re\n",
        "import json\n",
        "\n",
        "\n",
        "cache_dir = os.path.join(\n",
        "    \"./modelstates/hugface_models/\",\n",
        "    pretrained_model,\n",
        ")\n",
        "\n",
        "print(\"cache_dir=\", cache_dir)\n",
        "\n",
        "model_save_path = os.path.join(\n",
        "    \"./modelstates/finetuned_models\",\n",
        "    pretrained_model,\n",
        ")\n",
        "\n",
        "print(\"model_save_path=\", model_save_path)\n",
        "\n",
        "model = GPT2LMHeadModel.from_pretrained(\n",
        "    pretrained_model,\n",
        "    cache_dir=cache_dir,\n",
        ")"
      ],
      "metadata": {
        "colab": {
          "base_uri": "https://localhost:8080/",
          "height": 117,
          "referenced_widgets": [
            "17deb29dc2cc465cbe87b7b6a726a439",
            "8025c942675d4076b6cc22116781623f",
            "982ae54a37034d678e6b769eb3f00752",
            "5d78963339b64bf68ed04684e2cc275b",
            "6e4501eafdae4378b99ff7bc83863625",
            "379e9a6f199f493aaf60bcfb85848c58",
            "a6325c214f6b449db4ff9e0f3c6729c5",
            "ea5aaf8f629842379a9c81cabe1abb69",
            "c676f0c13519435398af4905e2fc45f4",
            "f793eee973784f82989acb93b84612f4",
            "f9be69e1ceb64eec81d61f1652ddf378",
            "0c5e5f75da4446dfbfb252ed9b5db30e",
            "9f520af19e03479aadc12f28ffc667a9",
            "c18fbe7c350e450d8d11f914ae88c692",
            "2e4f241b51644fd8a580106c4d122ba0",
            "a9f5b723e4d5485c9a5fc6462e490d4a",
            "e9e7ad8f568e49d29fa131d350111572",
            "fcd29b330d564b4ab050339f65a121fc",
            "fcf0ebf713fe4989999e9faa499ad146",
            "b1fed413408a45229e999a29a125594e",
            "7fe86d210e9b4cc59b1a113fca4fd18b",
            "6eb44813a1c64cabb5691d6c7dac1056"
          ]
        },
        "id": "jkCY8Wq2sTjE",
        "outputId": "36dba267-efdf-489a-9fc9-d7b86ecc9763"
      },
      "execution_count": 24,
      "outputs": [
        {
          "output_type": "stream",
          "name": "stdout",
          "text": [
            "cache_dir= ./modelstates/hugface_models/gpt2-large\n",
            "model_save_path= ./modelstates/finetuned_models/gpt2-large\n"
          ]
        },
        {
          "output_type": "display_data",
          "data": {
            "text/plain": [
              "Downloading:   0%|          | 0.00/666 [00:00<?, ?B/s]"
            ],
            "application/vnd.jupyter.widget-view+json": {
              "version_major": 2,
              "version_minor": 0,
              "model_id": "17deb29dc2cc465cbe87b7b6a726a439"
            }
          },
          "metadata": {}
        },
        {
          "output_type": "display_data",
          "data": {
            "text/plain": [
              "Downloading:   0%|          | 0.00/3.02G [00:00<?, ?B/s]"
            ],
            "application/vnd.jupyter.widget-view+json": {
              "version_major": 2,
              "version_minor": 0,
              "model_id": "0c5e5f75da4446dfbfb252ed9b5db30e"
            }
          },
          "metadata": {}
        }
      ]
    },
    {
      "cell_type": "code",
      "source": [
        "class BaseAgent(torch.nn.Module):\n",
        "\n",
        "    def __init__(self, model, tokenizer):\n",
        "        \n",
        "        super().__init__()\n",
        "        \n",
        "        self.model = model\n",
        "        self.tokenizer = tokenizer\n",
        "        \n",
        "        self.optimizer = torch.optim.Adam(\n",
        "            self.model.parameters(),\n",
        "            lr=0.00001,\n",
        "            betas=(0.9, 0.98),\n",
        "            eps=1e-9,\n",
        "        )\n",
        "        \n",
        "        self.num_gpus = torch.cuda.device_count()\n",
        "        \n",
        "        if self.num_gpus > 1:\n",
        "            self.model.parallelize()\n",
        "        elif self.num_gpus == 1:\n",
        "            self.gpu0 = torch.device('cuda:0')\n",
        "            #self.model = self.model.cuda()\n",
        "            self.model = self.model.to(self.gpu0)\n",
        "            '''you can do .to(cuda0) with tensors to'''\n",
        "            \n",
        "        print('self.model.device', self.model.device)\n",
        "        \n",
        "        self.num_params = \\\n",
        "          sum(p.numel() for p in self.model.parameters() if p.requires_grad)\n",
        "        print(\"num_params\", self.num_params)\n",
        "        \n",
        "    def get_response(self, prompt, max_len = 16, no_repeat_ngram_size = None):\n",
        "        \n",
        "        prompt_dic = self.tokenizer(prompt,return_tensors=\"pt\")\n",
        "        prompt_ids = prompt_dic.input_ids\n",
        "        prompt_mask = prompt_dic.attention_mask\n",
        "        prompt_len = prompt_ids.shape[1]\n",
        "        \n",
        "        if self.num_gpus > 0:\n",
        "            prompt_ids = prompt_ids.to(self.model.device)\n",
        "            prompt_mask = prompt_mask.to(self.model.device)\n",
        "        \n",
        "        prompt_len = prompt_ids.shape[1]\n",
        "        \n",
        "        output_ids = self.model.generate(\n",
        "            prompt_ids,\n",
        "            attention_mask = prompt_mask,\n",
        "            max_length = prompt_len+max_len,\n",
        "            no_repeat_ngram_size = no_repeat_ngram_size,\n",
        "        )\n",
        "\n",
        "        generated_text = self.tokenizer.batch_decode(output_ids)[0]\n",
        "        \n",
        "        return generated_text\n",
        "    \n",
        "    def memorize(self, prompt, num_epochs = 3):\n",
        "\n",
        "        print('start training loop')\n",
        "\n",
        "        \"\"\" This is a rudimentary training loop\n",
        "        that will train the agent to learn one\n",
        "        sequence, the prompt. With enough epochs, this should\n",
        "        result in memorizing the sequence, which is why this\n",
        "        class method was names memorize. \n",
        "        There is nothing returned because the model attribute is modified inplace. \n",
        "        Args:\n",
        "            prompt (string): the text to be learned\n",
        "            num_epochs (int): the number of times we cycle though the training data, only 1 sample in this case\n",
        "        \"\"\"\n",
        "\n",
        "        prompt_dic = self.tokenizer(prompt,return_tensors=\"pt\")\n",
        "        prompt_ids = prompt_dic.input_ids\n",
        "        prompt_mask = prompt_dic.attention_mask\n",
        "        prompt_len = prompt_ids.shape[1]\n",
        "\n",
        "        if self.num_gpus > 0:\n",
        "            prompt_ids = prompt_ids.to(self.model.device)\n",
        "            prompt_mask = prompt_mask.to(self.model.device)\n",
        "            \n",
        "        source_ids = prompt_ids[:,:-1]\n",
        "        target_ids = prompt_ids[:,1:]\n",
        "        source_mask = prompt_mask[:,:-1]\n",
        "        target_mask = prompt_mask[:,1:]\n",
        "\n",
        "        # allow params to be updated\n",
        "        self.model.train()\n",
        "\n",
        "        for e in range(num_epochs):\n",
        "\n",
        "            outputs = self.model(\n",
        "                input_ids = prompt_ids,\n",
        "                labels = prompt_ids,\n",
        "                attention_mask = prompt_mask,\n",
        "                token_type_ids=None,\n",
        "            )\n",
        "\n",
        "            # used logits and target tokens to calculate the loss\n",
        "            loss = outputs.loss\n",
        "            logits = outputs.logits\n",
        "\n",
        "            # backward pass\n",
        "            self.optimizer.zero_grad()\n",
        "            loss.backward()\n",
        "            torch.nn.utils.clip_grad_norm_(self.model.parameters(), 1.0)\n",
        "            self.optimizer.step()\n",
        "\n",
        "            print(\"epoch\", e, \"loss\", loss.item())\n",
        "\n",
        "        torch.cuda.empty_cache()\n",
        "\n",
        "    \n",
        "    def train(self, train_dataloader, num_epochs = 3):\n",
        "\n",
        "      self.model.train()\n",
        "\n",
        "      for epoch in range(num_epochs):\n",
        "\n",
        "        for batch_idx, samples in enumerate(train_dataloader):\n",
        "\n",
        "          samples = [s.to(self.model.device) for s in samples]\n",
        "\n",
        "          outputs = self.model(\n",
        "              input_ids = samples[0].squeeze(1),\n",
        "              labels = samples[0].squeeze(1),\n",
        "              attention_mask = samples[1].squeeze(1),\n",
        "              token_type_ids=None,\n",
        "          )\n",
        "\n",
        "          # used logits and target tokens to calculate the loss\n",
        "          loss = outputs.loss\n",
        "          logits = outputs.logits\n",
        "\n",
        "          # backward pass\n",
        "          self.optimizer.zero_grad()\n",
        "          loss.backward()\n",
        "          torch.nn.utils.clip_grad_norm_(self.model.parameters(), 1.0)\n",
        "          self.optimizer.step()\n",
        "\n",
        "        print(\"epoch\", epoch, \"loss\", loss.item())\n",
        "\n",
        "      torch.cuda.empty_cache()\n",
        "\n",
        "    def eval(self, val_list):\n",
        "\n",
        "      self.model.eval()\n",
        "\n",
        "      for i in range(len(val_list)):\n",
        "\n",
        "        few_shot_list = [\n",
        "          ('I am having a heart attack', 'emergency'),\n",
        "          ('I like the show how to get away with murder', 'neutral'),\n",
        "          (\"It's very common to have some allergies during summer\", 'neutral'),\n",
        "          ('i feel out of breath just walking to the kitchen', 'emergency'),\n",
        "          ('that music makes me feel like throwing up', 'neutral'),\n",
        "          ('i am finding it harder to breathe today', 'emergency'),\n",
        "          ('coffee is my reason for living', 'neutral'),\n",
        "          ('my legs are more red swollen and painful today', 'emergency'),\n",
        "          ('my afternoon meal is 3 hours late', 'emergency'),\n",
        "        ]\n",
        "\n",
        "        x = get_detection_prompt(\n",
        "            query_text = val_list[i][0],\n",
        "            few_shot_list = few_shot_list,\n",
        "        )\n",
        "\n",
        "        y = samples[1]\n",
        "\n",
        "        y_hat = self.get_response(x)\n",
        "\n",
        "        y_hat = y_hat[len(x):].strip()\n",
        "        y_hat = y_hat[:y_hat.index('.\\n')]\n",
        "\n",
        "        print(x)\n",
        "        print('_____________')\n",
        "        print(y_hat)\n",
        "        print('_____________')\n",
        "\n",
        "        break\n"
      ],
      "metadata": {
        "id": "9N01uvaiX5uO"
      },
      "execution_count": 37,
      "outputs": []
    },
    {
      "cell_type": "code",
      "source": [
        "agent = BaseAgent(model, tokenizer)"
      ],
      "metadata": {
        "colab": {
          "base_uri": "https://localhost:8080/"
        },
        "id": "nEHT8QbMYD90",
        "outputId": "e2a2f962-311f-4057-94e6-93cf30f5c049"
      },
      "execution_count": 38,
      "outputs": [
        {
          "output_type": "stream",
          "name": "stdout",
          "text": [
            "self.model.device cuda:0\n",
            "num_params 774030080\n"
          ]
        }
      ]
    },
    {
      "cell_type": "code",
      "source": [
        "agent.eval(val_list)"
      ],
      "metadata": {
        "colab": {
          "base_uri": "https://localhost:8080/"
        },
        "id": "EH9UiAALuaqc",
        "outputId": "3bd5b148-10a8-42b5-f4d5-66d70f991ecd"
      },
      "execution_count": 39,
      "outputs": [
        {
          "output_type": "stream",
          "name": "stderr",
          "text": [
            "Setting `pad_token_id` to `eos_token_id`:50256 for open-end generation.\n"
          ]
        },
        {
          "output_type": "stream",
          "name": "stdout",
          "text": [
            "Text: I am having a heart attack.\n",
            "Label: emergency.\n",
            "###\n",
            "Text: I like the show how to get away with murder.\n",
            "Label: neutral.\n",
            "###\n",
            "Text: It's very common to have some allergies during summer.\n",
            "Label: neutral.\n",
            "###\n",
            "Text: i feel out of breath just walking to the kitchen.\n",
            "Label: emergency.\n",
            "###\n",
            "Text: that music makes me feel like throwing up.\n",
            "Label: neutral.\n",
            "###\n",
            "Text: i am finding it harder to breathe today.\n",
            "Label: emergency.\n",
            "###\n",
            "Text: coffee is my reason for living.\n",
            "Label: neutral.\n",
            "###\n",
            "Text: my legs are more red swollen and painful today.\n",
            "Label: emergency.\n",
            "###\n",
            "Text: my afternoon meal is 3 hours late.\n",
            "Label: emergency.\n",
            "###\n",
            "Text: I fell asleep on the couch.\n",
            "Label: \n",
            "_____________\n",
            "neutral\n",
            "_____________\n"
          ]
        }
      ]
    },
    {
      "cell_type": "code",
      "source": [
        "agent.train(train_dataloader)"
      ],
      "metadata": {
        "colab": {
          "base_uri": "https://localhost:8080/"
        },
        "id": "B97qnopRtXGz",
        "outputId": "7cf0edcf-6279-44a2-b5ed-d78f6169c92b"
      },
      "execution_count": 59,
      "outputs": [
        {
          "output_type": "stream",
          "name": "stdout",
          "text": [
            "epoch 0 loss 1.1636629104614258\n",
            "epoch 1 loss 0.6864692568778992\n",
            "epoch 2 loss 0.36334311962127686\n"
          ]
        }
      ]
    }
  ]
}