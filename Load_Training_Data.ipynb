{
  "nbformat": 4,
  "nbformat_minor": 0,
  "metadata": {
    "colab": {
      "name": "Load_Training_Data.ipynb",
      "provenance": [],
      "authorship_tag": "ABX9TyN0EPzcQFKSqUbSmLGjXAMz",
      "include_colab_link": true
    },
    "kernelspec": {
      "name": "python3",
      "display_name": "Python 3"
    },
    "language_info": {
      "name": "python"
    }
  },
  "cells": [
    {
      "cell_type": "markdown",
      "metadata": {
        "id": "view-in-github",
        "colab_type": "text"
      },
      "source": [
        "<a href=\"https://colab.research.google.com/github/clam004/case/blob/main/Load_Training_Data.ipynb\" target=\"_parent\"><img src=\"https://colab.research.google.com/assets/colab-badge.svg\" alt=\"Open In Colab\"/></a>"
      ]
    },
    {
      "cell_type": "code",
      "execution_count": 1,
      "metadata": {
        "colab": {
          "base_uri": "https://localhost:8080/"
        },
        "id": "tQWTjdGapx4g",
        "outputId": "e3583746-c051-41db-94bb-d3e49c97ef09"
      },
      "outputs": [
        {
          "output_type": "stream",
          "name": "stdout",
          "text": [
            "Mounted at /content/drive\n",
            "/content/drive/MyDrive/case\n",
            "ACES.ipynb\t\t  modelstates  T0_3B_dialog_summarization.ipynb\n",
            "data\t\t\t  __pycache__  Training_Data.xlsx\n",
            "Load_Training_Data.ipynb  sol.ipynb    utils.py\n"
          ]
        }
      ],
      "source": [
        "# Mount to my google drive which is where ive stored the data\n",
        "from google.colab import drive\n",
        "drive.mount('/content/drive')\n",
        "%cd drive/MyDrive/case\n",
        "!ls"
      ]
    },
    {
      "cell_type": "code",
      "source": [
        "import pandas as pd\n",
        "\n",
        "df = pd.read_excel('Training_Data.xlsx')\n",
        "\n",
        "print(df.columns)\n",
        "\n",
        "df.head()"
      ],
      "metadata": {
        "colab": {
          "base_uri": "https://localhost:8080/",
          "height": 224
        },
        "id": "mRrg2eYEp5AF",
        "outputId": "9e931b5e-d542-4d76-a31e-f904cb50382c"
      },
      "execution_count": 7,
      "outputs": [
        {
          "output_type": "stream",
          "name": "stdout",
          "text": [
            "Index(['Text', 'Label'], dtype='object')\n"
          ]
        },
        {
          "output_type": "execute_result",
          "data": {
            "text/plain": [
              "                                     Text      Label\n",
              "0  i just fell this morning in my kitchen  emergency\n",
              "1              i see no reason for living  emergency\n",
              "2   i fell in love when i was a young man    neutral\n",
              "3          coffee is my reason for living    neutral\n",
              "4       my afternoon meal is 3 hours late  emergency"
            ],
            "text/html": [
              "\n",
              "  <div id=\"df-3713a267-d991-4c4e-8756-7b5ac13d1fcc\">\n",
              "    <div class=\"colab-df-container\">\n",
              "      <div>\n",
              "<style scoped>\n",
              "    .dataframe tbody tr th:only-of-type {\n",
              "        vertical-align: middle;\n",
              "    }\n",
              "\n",
              "    .dataframe tbody tr th {\n",
              "        vertical-align: top;\n",
              "    }\n",
              "\n",
              "    .dataframe thead th {\n",
              "        text-align: right;\n",
              "    }\n",
              "</style>\n",
              "<table border=\"1\" class=\"dataframe\">\n",
              "  <thead>\n",
              "    <tr style=\"text-align: right;\">\n",
              "      <th></th>\n",
              "      <th>Text</th>\n",
              "      <th>Label</th>\n",
              "    </tr>\n",
              "  </thead>\n",
              "  <tbody>\n",
              "    <tr>\n",
              "      <th>0</th>\n",
              "      <td>i just fell this morning in my kitchen</td>\n",
              "      <td>emergency</td>\n",
              "    </tr>\n",
              "    <tr>\n",
              "      <th>1</th>\n",
              "      <td>i see no reason for living</td>\n",
              "      <td>emergency</td>\n",
              "    </tr>\n",
              "    <tr>\n",
              "      <th>2</th>\n",
              "      <td>i fell in love when i was a young man</td>\n",
              "      <td>neutral</td>\n",
              "    </tr>\n",
              "    <tr>\n",
              "      <th>3</th>\n",
              "      <td>coffee is my reason for living</td>\n",
              "      <td>neutral</td>\n",
              "    </tr>\n",
              "    <tr>\n",
              "      <th>4</th>\n",
              "      <td>my afternoon meal is 3 hours late</td>\n",
              "      <td>emergency</td>\n",
              "    </tr>\n",
              "  </tbody>\n",
              "</table>\n",
              "</div>\n",
              "      <button class=\"colab-df-convert\" onclick=\"convertToInteractive('df-3713a267-d991-4c4e-8756-7b5ac13d1fcc')\"\n",
              "              title=\"Convert this dataframe to an interactive table.\"\n",
              "              style=\"display:none;\">\n",
              "        \n",
              "  <svg xmlns=\"http://www.w3.org/2000/svg\" height=\"24px\"viewBox=\"0 0 24 24\"\n",
              "       width=\"24px\">\n",
              "    <path d=\"M0 0h24v24H0V0z\" fill=\"none\"/>\n",
              "    <path d=\"M18.56 5.44l.94 2.06.94-2.06 2.06-.94-2.06-.94-.94-2.06-.94 2.06-2.06.94zm-11 1L8.5 8.5l.94-2.06 2.06-.94-2.06-.94L8.5 2.5l-.94 2.06-2.06.94zm10 10l.94 2.06.94-2.06 2.06-.94-2.06-.94-.94-2.06-.94 2.06-2.06.94z\"/><path d=\"M17.41 7.96l-1.37-1.37c-.4-.4-.92-.59-1.43-.59-.52 0-1.04.2-1.43.59L10.3 9.45l-7.72 7.72c-.78.78-.78 2.05 0 2.83L4 21.41c.39.39.9.59 1.41.59.51 0 1.02-.2 1.41-.59l7.78-7.78 2.81-2.81c.8-.78.8-2.07 0-2.86zM5.41 20L4 18.59l7.72-7.72 1.47 1.35L5.41 20z\"/>\n",
              "  </svg>\n",
              "      </button>\n",
              "      \n",
              "  <style>\n",
              "    .colab-df-container {\n",
              "      display:flex;\n",
              "      flex-wrap:wrap;\n",
              "      gap: 12px;\n",
              "    }\n",
              "\n",
              "    .colab-df-convert {\n",
              "      background-color: #E8F0FE;\n",
              "      border: none;\n",
              "      border-radius: 50%;\n",
              "      cursor: pointer;\n",
              "      display: none;\n",
              "      fill: #1967D2;\n",
              "      height: 32px;\n",
              "      padding: 0 0 0 0;\n",
              "      width: 32px;\n",
              "    }\n",
              "\n",
              "    .colab-df-convert:hover {\n",
              "      background-color: #E2EBFA;\n",
              "      box-shadow: 0px 1px 2px rgba(60, 64, 67, 0.3), 0px 1px 3px 1px rgba(60, 64, 67, 0.15);\n",
              "      fill: #174EA6;\n",
              "    }\n",
              "\n",
              "    [theme=dark] .colab-df-convert {\n",
              "      background-color: #3B4455;\n",
              "      fill: #D2E3FC;\n",
              "    }\n",
              "\n",
              "    [theme=dark] .colab-df-convert:hover {\n",
              "      background-color: #434B5C;\n",
              "      box-shadow: 0px 1px 3px 1px rgba(0, 0, 0, 0.15);\n",
              "      filter: drop-shadow(0px 1px 2px rgba(0, 0, 0, 0.3));\n",
              "      fill: #FFFFFF;\n",
              "    }\n",
              "  </style>\n",
              "\n",
              "      <script>\n",
              "        const buttonEl =\n",
              "          document.querySelector('#df-3713a267-d991-4c4e-8756-7b5ac13d1fcc button.colab-df-convert');\n",
              "        buttonEl.style.display =\n",
              "          google.colab.kernel.accessAllowed ? 'block' : 'none';\n",
              "\n",
              "        async function convertToInteractive(key) {\n",
              "          const element = document.querySelector('#df-3713a267-d991-4c4e-8756-7b5ac13d1fcc');\n",
              "          const dataTable =\n",
              "            await google.colab.kernel.invokeFunction('convertToInteractive',\n",
              "                                                     [key], {});\n",
              "          if (!dataTable) return;\n",
              "\n",
              "          const docLinkHtml = 'Like what you see? Visit the ' +\n",
              "            '<a target=\"_blank\" href=https://colab.research.google.com/notebooks/data_table.ipynb>data table notebook</a>'\n",
              "            + ' to learn more about interactive tables.';\n",
              "          element.innerHTML = '';\n",
              "          dataTable['output_type'] = 'display_data';\n",
              "          await google.colab.output.renderOutput(dataTable, element);\n",
              "          const docLink = document.createElement('div');\n",
              "          docLink.innerHTML = docLinkHtml;\n",
              "          element.appendChild(docLink);\n",
              "        }\n",
              "      </script>\n",
              "    </div>\n",
              "  </div>\n",
              "  "
            ]
          },
          "metadata": {},
          "execution_count": 7
        }
      ]
    },
    {
      "cell_type": "code",
      "source": [
        "df[\"Text\"][:2].tolist()"
      ],
      "metadata": {
        "colab": {
          "base_uri": "https://localhost:8080/"
        },
        "id": "P2saR4FZtlUe",
        "outputId": "48beb091-d684-417c-8286-e779f2cc926f"
      },
      "execution_count": 10,
      "outputs": [
        {
          "output_type": "execute_result",
          "data": {
            "text/plain": [
              "['i just fell this morning in my kitchen', 'i see no reason for living']"
            ]
          },
          "metadata": {},
          "execution_count": 10
        }
      ]
    },
    {
      "cell_type": "code",
      "source": [
        "import random\n",
        "\n",
        "records = df.to_records(index=False)\n",
        "result = list(records)\n",
        "\n",
        "random.shuffle(result)\n",
        "\n",
        "val_list = result[:int(len(result)*.2)]\n",
        "train_list = result[int(len(result)*.2):]\n",
        "\n",
        "val_list"
      ],
      "metadata": {
        "colab": {
          "base_uri": "https://localhost:8080/"
        },
        "id": "gvdBdQoBv91A",
        "outputId": "b30ef873-b9c7-4232-82aa-0c6a64b2c061"
      },
      "execution_count": 22,
      "outputs": [
        {
          "output_type": "execute_result",
          "data": {
            "text/plain": [
              "[('Without mexican food I will die', 'neutral '),\n",
              " ('I laughed so hard that I almost peed my pants. ', 'neutral'),\n",
              " ('my son has been hitting me', 'emergency'),\n",
              " ('the tv shows are so violent these days', 'neutral '),\n",
              " ('i think i hurt my wrist while working on my yard', 'emergency'),\n",
              " ('my afternoon meal is 3 hours late', 'emergency'),\n",
              " (\"It's very common to have some allergies during summer\", 'neutral'),\n",
              " ('After hearing her story I felt sick to my stomach', 'neutral'),\n",
              " ('I slipped in the bathroom', 'emergency')]"
            ]
          },
          "metadata": {},
          "execution_count": 22
        }
      ]
    },
    {
      "cell_type": "code",
      "source": [
        "train_list"
      ],
      "metadata": {
        "colab": {
          "base_uri": "https://localhost:8080/"
        },
        "id": "hV6ceVl_xf8k",
        "outputId": "143aa7eb-710f-4a4d-dd13-fb17bf0e6db5"
      },
      "execution_count": 23,
      "outputs": [
        {
          "output_type": "execute_result",
          "data": {
            "text/plain": [
              "[('i bumped my head with the sidewalk', 'emergency'),\n",
              " ('i feel out out breath walking up the stairs', 'neutral'),\n",
              " ('on the news i saw that someone was hit by a car', 'neutral'),\n",
              " ('i fell down on the driveway', 'emergency'),\n",
              " (\"I'm having an allergic attack. Help!\", 'emergency'),\n",
              " ('i see no reason for living', 'emergency'),\n",
              " ('i just got run over by a car', 'emergency'),\n",
              " ('I will die if someone tickled me that way ', 'neutral '),\n",
              " ('the red sox got run over by the yankees', 'neutral'),\n",
              " ('I cut myself while cooking and its bleeding', 'emergency'),\n",
              " ('i am out of my medications', 'emergency'),\n",
              " ('coffee is my reason for living', 'neutral'),\n",
              " ('I was supposed to go to the grocery but it slipped my mind. ', 'neutral '),\n",
              " ('i fell in love when i was a young man', 'neutral'),\n",
              " ('i spent all night throwing up', 'emergency'),\n",
              " ('i feel out of breath just walking to the kitchen', 'emergency'),\n",
              " ('my dog hasnt been eating', 'neutral '),\n",
              " ('I like the show how to get away with murder', 'neutral'),\n",
              " ('My neighbor hurt my feelings today ', 'neutral '),\n",
              " ('that music makes me feel like throwing up', 'neutral'),\n",
              " ('My grandchildren will give me a heart attack', 'neutral '),\n",
              " ('I am having a heart attack', 'emergency'),\n",
              " (\"my nurse hasn't come yet and it's been an hour\", 'emergency'),\n",
              " ('i like my toast slightly burned', 'neutral'),\n",
              " ('my legs have been swollen for years', 'neutral'),\n",
              " ('i will kill for some nachos', 'neutral '),\n",
              " ('i am finding it harder to breathe today', 'emergency'),\n",
              " ('She had me rolling on the floor laughing', 'neutral'),\n",
              " ('My cat attacked a bird outside my house', 'neutral '),\n",
              " ('i enjoy a late night snack', 'neutral'),\n",
              " ('I like the song Killing me softly ', 'neutral'),\n",
              " ('i ran out of my meds today', 'emergency'),\n",
              " ('I am having diarrhea', 'emergency'),\n",
              " ('i dreamt i ran into my favorite singer', 'neutral'),\n",
              " ('my legs are more red swollen and painful today', 'emergency'),\n",
              " ('i just fell this morning in my kitchen', 'emergency'),\n",
              " ('My house is being attacked', 'emergency'),\n",
              " ('im dying for some pizza', 'neutral '),\n",
              " ('i bumped into my neighbor', 'neutral'),\n",
              " ('I fell asleep on the couch ', 'neutral ')]"
            ]
          },
          "metadata": {},
          "execution_count": 23
        }
      ]
    },
    {
      "cell_type": "code",
      "source": [
        "random.choices(train_list, k=4)"
      ],
      "metadata": {
        "colab": {
          "base_uri": "https://localhost:8080/"
        },
        "id": "OKGe8-lvyyBN",
        "outputId": "e70cf5ad-78ca-44e9-ec5a-a7b338d951db"
      },
      "execution_count": 25,
      "outputs": [
        {
          "output_type": "execute_result",
          "data": {
            "text/plain": [
              "[('I like the song Killing me softly ', 'neutral'),\n",
              " ('i bumped into my neighbor', 'neutral'),\n",
              " ('My house is being attacked', 'emergency'),\n",
              " ('I fell asleep on the couch ', 'neutral ')]"
            ]
          },
          "metadata": {},
          "execution_count": 25
        }
      ]
    },
    {
      "cell_type": "code",
      "source": [
        "def end_punctuation(utter):\n",
        "    \n",
        "    if utter[-1] not in [\"?\",\"!\",\".\"]:\n",
        "        utter+=\".\"\n",
        "        \n",
        "    return utter\n",
        "\n",
        "def get_detection_prompt(\n",
        "    query_text,\n",
        "    few_shot_list,\n",
        "    example_symbol = 'Text: ', \n",
        "    label_symbol = 'Label: ', \n",
        "    sample_separator = '###', \n",
        "    join_separator = '\\n', \n",
        "):\n",
        "    \n",
        "    detect_prompt = []\n",
        "    \n",
        "    for xy in few_shot_list:\n",
        "        \n",
        "        x = end_punctuation(xy[0].strip())\n",
        "        y = end_punctuation(xy[1].strip())\n",
        "        \n",
        "        detect_prompt.append(example_symbol+x)\n",
        "        detect_prompt.append(label_symbol+y)\n",
        "        detect_prompt.append(sample_separator)\n",
        "\n",
        "    query_text = end_punctuation(query_text.strip())\n",
        "    \n",
        "    detect_prompt.append(example_symbol+query_text)\n",
        "    detect_prompt.append(label_symbol)\n",
        "    \n",
        "    return join_separator.join(detect_prompt)"
      ],
      "metadata": {
        "id": "AiVHH_lmvB3Y"
      },
      "execution_count": 58,
      "outputs": []
    },
    {
      "cell_type": "code",
      "source": [
        "concat_prompt = ''\n",
        "\n",
        "for i in range(len(train_list)):\n",
        "\n",
        "  few_shot_list = random.choices(train_list, k=2)\n",
        "\n",
        "  prompt = get_detection_prompt(\n",
        "      query_text = train_list[i][0],\n",
        "      few_shot_list = few_shot_list,\n",
        "  )\n",
        "\n",
        "  prompt += train_list[i][1]\n",
        "  concat_prompt += prompt+'.\\n###\\n'\n",
        "\n",
        "concat_prompt"
      ],
      "metadata": {
        "colab": {
          "base_uri": "https://localhost:8080/",
          "height": 143
        },
        "id": "Bp-bom2synCU",
        "outputId": "1dc813ee-326c-43db-f7fc-034ee748b60d"
      },
      "execution_count": 60,
      "outputs": [
        {
          "output_type": "execute_result",
          "data": {
            "text/plain": [
              "\"Text: that music makes me feel like throwing up.\\nLabel: neutral.\\n###\\nText: my legs have been swollen for years.\\nLabel: neutral.\\n###\\nText: i bumped my head with the sidewalk.\\nLabel: emergency.\\n###\\nText: that music makes me feel like throwing up.\\nLabel: neutral.\\n###\\nText: i bumped into my neighbor.\\nLabel: neutral.\\n###\\nText: i feel out out breath walking up the stairs.\\nLabel: neutral.\\n###\\nText: I was supposed to go to the grocery but it slipped my mind.\\nLabel: neutral.\\n###\\nText: I like the song Killing me softly.\\nLabel: neutral.\\n###\\nText: on the news i saw that someone was hit by a car.\\nLabel: neutral.\\n###\\nText: i feel out out breath walking up the stairs.\\nLabel: neutral.\\n###\\nText: i bumped my head with the sidewalk.\\nLabel: emergency.\\n###\\nText: i fell down on the driveway.\\nLabel: emergency.\\n###\\nText: i fell down on the driveway.\\nLabel: emergency.\\n###\\nText: i see no reason for living.\\nLabel: emergency.\\n###\\nText: I'm having an allergic attack. Help!\\nLabel: emergency.\\n###\\nText: I like the song Killing me softly.\\nLabel: neutral.\\n###\\nText: I am having a heart attack.\\nLabel: emergency.\\n###\\nText: i see no reason for living.\\nLabel: emergency.\\n###\\nText: my legs are more red swollen and painful today.\\nLabel: emergency.\\n###\\nText: i ran out of my meds today.\\nLabel: emergency.\\n###\\nText: i just got run over by a car.\\nLabel: emergency.\\n###\\nText: My house is being attacked.\\nLabel: emergency.\\n###\\nText: I was supposed to go to the grocery but it slipped my mind.\\nLabel: neutral.\\n###\\nText: I will die if someone tickled me that way.\\nLabel: neutral .\\n###\\nText: I was supposed to go to the grocery but it slipped my mind.\\nLabel: neutral.\\n###\\nText: i bumped into my neighbor.\\nLabel: neutral.\\n###\\nText: the red sox got run over by the yankees.\\nLabel: neutral.\\n###\\nText: i just got run over by a car.\\nLabel: emergency.\\n###\\nText: I fell asleep on the couch.\\nLabel: neutral.\\n###\\nText: I cut myself while cooking and its bleeding.\\nLabel: emergency.\\n###\\nText: She had me rolling on the floor laughing.\\nLabel: neutral.\\n###\\nText: on the news i saw that someone was hit by a car.\\nLabel: neutral.\\n###\\nText: i am out of my medications.\\nLabel: emergency.\\n###\\nText: i feel out out breath walking up the stairs.\\nLabel: neutral.\\n###\\nText: I am having a heart attack.\\nLabel: emergency.\\n###\\nText: coffee is my reason for living.\\nLabel: neutral.\\n###\\nText: i spent all night throwing up.\\nLabel: emergency.\\n###\\nText: i am out of my medications.\\nLabel: emergency.\\n###\\nText: I was supposed to go to the grocery but it slipped my mind.\\nLabel: neutral .\\n###\\nText: the red sox got run over by the yankees.\\nLabel: neutral.\\n###\\nText: i feel out out breath walking up the stairs.\\nLabel: neutral.\\n###\\nText: i fell in love when i was a young man.\\nLabel: neutral.\\n###\\nText: i feel out out breath walking up the stairs.\\nLabel: neutral.\\n###\\nText: my legs are more red swollen and painful today.\\nLabel: emergency.\\n###\\nText: i spent all night throwing up.\\nLabel: emergency.\\n###\\nText: She had me rolling on the floor laughing.\\nLabel: neutral.\\n###\\nText: i feel out out breath walking up the stairs.\\nLabel: neutral.\\n###\\nText: i feel out of breath just walking to the kitchen.\\nLabel: emergency.\\n###\\nText: im dying for some pizza.\\nLabel: neutral.\\n###\\nText: i dreamt i ran into my favorite singer.\\nLabel: neutral.\\n###\\nText: my dog hasnt been eating.\\nLabel: neutral .\\n###\\nText: I am having diarrhea.\\nLabel: emergency.\\n###\\nText: that music makes me feel like throwing up.\\nLabel: neutral.\\n###\\nText: I like the show how to get away with murder.\\nLabel: neutral.\\n###\\nText: the red sox got run over by the yankees.\\nLabel: neutral.\\n###\\nText: i fell in love when i was a young man.\\nLabel: neutral.\\n###\\nText: My neighbor hurt my feelings today.\\nLabel: neutral .\\n###\\nText: i like my toast slightly burned.\\nLabel: neutral.\\n###\\nText: my legs are more red swollen and painful today.\\nLabel: emergency.\\n###\\nText: that music makes me feel like throwing up.\\nLabel: neutral.\\n###\\nText: i feel out out breath walking up the stairs.\\nLabel: neutral.\\n###\\nText: that music makes me feel like throwing up.\\nLabel: neutral.\\n###\\nText: My grandchildren will give me a heart attack.\\nLabel: neutral .\\n###\\nText: i feel out out breath walking up the stairs.\\nLabel: neutral.\\n###\\nText: im dying for some pizza.\\nLabel: neutral.\\n###\\nText: I am having a heart attack.\\nLabel: emergency.\\n###\\nText: My neighbor hurt my feelings today.\\nLabel: neutral.\\n###\\nText: i feel out out breath walking up the stairs.\\nLabel: neutral.\\n###\\nText: my nurse hasn't come yet and it's been an hour.\\nLabel: emergency.\\n###\\nText: the red sox got run over by the yankees.\\nLabel: neutral.\\n###\\nText: i spent all night throwing up.\\nLabel: emergency.\\n###\\nText: i like my toast slightly burned.\\nLabel: neutral.\\n###\\nText: I cut myself while cooking and its bleeding.\\nLabel: emergency.\\n###\\nText: My neighbor hurt my feelings today.\\nLabel: neutral.\\n###\\nText: my legs have been swollen for years.\\nLabel: neutral.\\n###\\nText: I will die if someone tickled me that way.\\nLabel: neutral.\\n###\\nText: i bumped my head with the sidewalk.\\nLabel: emergency.\\n###\\nText: i will kill for some nachos.\\nLabel: neutral .\\n###\\nText: i will kill for some nachos.\\nLabel: neutral.\\n###\\nText: I like the song Killing me softly.\\nLabel: neutral.\\n###\\nText: i am finding it harder to breathe today.\\nLabel: emergency.\\n###\\nText: i enjoy a late night snack.\\nLabel: neutral.\\n###\\nText: I will die if someone tickled me that way.\\nLabel: neutral.\\n###\\nText: She had me rolling on the floor laughing.\\nLabel: neutral.\\n###\\nText: the red sox got run over by the yankees.\\nLabel: neutral.\\n###\\nText: I'm having an allergic attack. Help!\\nLabel: emergency.\\n###\\nText: My cat attacked a bird outside my house.\\nLabel: neutral .\\n###\\nText: My house is being attacked.\\nLabel: emergency.\\n###\\nText: My neighbor hurt my feelings today.\\nLabel: neutral.\\n###\\nText: i enjoy a late night snack.\\nLabel: neutral.\\n###\\nText: my legs are more red swollen and painful today.\\nLabel: emergency.\\n###\\nText: I cut myself while cooking and its bleeding.\\nLabel: emergency.\\n###\\nText: I like the song Killing me softly.\\nLabel: neutral.\\n###\\nText: I like the song Killing me softly.\\nLabel: neutral.\\n###\\nText: coffee is my reason for living.\\nLabel: neutral.\\n###\\nText: i ran out of my meds today.\\nLabel: emergency.\\n###\\nText: i feel out out breath walking up the stairs.\\nLabel: neutral.\\n###\\nText: I cut myself while cooking and its bleeding.\\nLabel: emergency.\\n###\\nText: I am having diarrhea.\\nLabel: emergency.\\n###\\nText: i spent all night throwing up.\\nLabel: emergency.\\n###\\nText: my legs are more red swollen and painful today.\\nLabel: emergency.\\n###\\nText: i dreamt i ran into my favorite singer.\\nLabel: neutral.\\n###\\nText: My house is being attacked.\\nLabel: emergency.\\n###\\nText: I like the song Killing me softly.\\nLabel: neutral.\\n###\\nText: my legs are more red swollen and painful today.\\nLabel: emergency.\\n###\\nText: my legs have been swollen for years.\\nLabel: neutral.\\n###\\nText: i fell in love when i was a young man.\\nLabel: neutral.\\n###\\nText: i just fell this morning in my kitchen.\\nLabel: emergency.\\n###\\nText: My cat attacked a bird outside my house.\\nLabel: neutral.\\n###\\nText: i will kill for some nachos.\\nLabel: neutral.\\n###\\nText: My house is being attacked.\\nLabel: emergency.\\n###\\nText: i dreamt i ran into my favorite singer.\\nLabel: neutral.\\n###\\nText: i am finding it harder to breathe today.\\nLabel: emergency.\\n###\\nText: im dying for some pizza.\\nLabel: neutral .\\n###\\nText: i just fell this morning in my kitchen.\\nLabel: emergency.\\n###\\nText: I fell asleep on the couch.\\nLabel: neutral.\\n###\\nText: i bumped into my neighbor.\\nLabel: neutral.\\n###\\nText: coffee is my reason for living.\\nLabel: neutral.\\n###\\nText: that music makes me feel like throwing up.\\nLabel: neutral.\\n###\\nText: I fell asleep on the couch.\\nLabel: neutral .\\n###\\n\""
            ],
            "application/vnd.google.colaboratory.intrinsic+json": {
              "type": "string"
            }
          },
          "metadata": {},
          "execution_count": 60
        }
      ]
    },
    {
      "cell_type": "code",
      "source": [
        "# load dependencies into our python environment\n",
        "%%capture\n",
        "! pip install transformers[sentencepiece]"
      ],
      "metadata": {
        "id": "Z09tJtRrs5Kk"
      },
      "execution_count": 3,
      "outputs": []
    },
    {
      "cell_type": "code",
      "source": [
        "\n",
        "#huggingface transformers\n",
        "import transformers\n",
        "print('transformers.__version__', transformers.__version__)\n",
        "from transformers import set_seed\n",
        "from transformers import AutoTokenizer\n",
        "from transformers import GPT2Tokenizer, GPT2LMHeadModel\n",
        "\n",
        "context_length = 16\n",
        "pretrained_model = 'gpt2'\n",
        "tokenizer = GPT2Tokenizer.from_pretrained(\n",
        "                pretrained_model,\n",
        "                pad_token='<|endoftext|>',\n",
        "            )\n",
        "\n",
        "outputs = tokenizer(\n",
        "    [prompt,prompt],\n",
        "    #truncation=True,\n",
        "    #max_length=context_length,\n",
        "    #return_overflowing_tokens=True,\n",
        "    #return_length=True,\n",
        ")"
      ],
      "metadata": {
        "colab": {
          "base_uri": "https://localhost:8080/"
        },
        "id": "5e5rNZIrqMtb",
        "outputId": "eeb7b60f-222c-4a3d-9b0c-9ad7705d6cbd"
      },
      "execution_count": 48,
      "outputs": [
        {
          "output_type": "stream",
          "name": "stdout",
          "text": [
            "transformers.__version__ 4.20.1\n"
          ]
        }
      ]
    },
    {
      "cell_type": "code",
      "source": [
        "outputs"
      ],
      "metadata": {
        "colab": {
          "base_uri": "https://localhost:8080/"
        },
        "id": "82w6d_hotHc6",
        "outputId": "ff61cfa0-deb0-4380-fb96-1f917b9f46b5"
      },
      "execution_count": 49,
      "outputs": [
        {
          "output_type": "execute_result",
          "data": {
            "text/plain": [
              "{'input_ids': [[8206, 25, 1312, 655, 1392, 1057, 625, 416, 257, 1097, 13, 198, 33986, 25, 6334, 13, 198, 21017, 198, 8206, 25, 326, 2647, 1838, 502, 1254, 588, 9644, 510, 13, 198, 33986, 25, 8500, 13, 198, 21017, 198, 8206, 25, 314, 588, 262, 905, 703, 284, 651, 1497, 351, 5123, 13, 198, 33986, 25, 8500, 13, 198, 21017, 198, 8206, 25, 616, 15849, 5818, 470, 1282, 1865, 290, 340, 338, 587, 281, 1711, 13, 198, 33986, 25, 6334, 13, 198, 21017, 198, 8206, 25, 1312, 38034, 616, 1182, 351, 262, 24058, 13, 198, 33986, 25, 6334], [8206, 25, 1312, 655, 1392, 1057, 625, 416, 257, 1097, 13, 198, 33986, 25, 6334, 13, 198, 21017, 198, 8206, 25, 326, 2647, 1838, 502, 1254, 588, 9644, 510, 13, 198, 33986, 25, 8500, 13, 198, 21017, 198, 8206, 25, 314, 588, 262, 905, 703, 284, 651, 1497, 351, 5123, 13, 198, 33986, 25, 8500, 13, 198, 21017, 198, 8206, 25, 616, 15849, 5818, 470, 1282, 1865, 290, 340, 338, 587, 281, 1711, 13, 198, 33986, 25, 6334, 13, 198, 21017, 198, 8206, 25, 1312, 38034, 616, 1182, 351, 262, 24058, 13, 198, 33986, 25, 6334]], 'attention_mask': [[1, 1, 1, 1, 1, 1, 1, 1, 1, 1, 1, 1, 1, 1, 1, 1, 1, 1, 1, 1, 1, 1, 1, 1, 1, 1, 1, 1, 1, 1, 1, 1, 1, 1, 1, 1, 1, 1, 1, 1, 1, 1, 1, 1, 1, 1, 1, 1, 1, 1, 1, 1, 1, 1, 1, 1, 1, 1, 1, 1, 1, 1, 1, 1, 1, 1, 1, 1, 1, 1, 1, 1, 1, 1, 1, 1, 1, 1, 1, 1, 1, 1, 1, 1, 1, 1, 1, 1, 1, 1, 1, 1, 1, 1, 1, 1], [1, 1, 1, 1, 1, 1, 1, 1, 1, 1, 1, 1, 1, 1, 1, 1, 1, 1, 1, 1, 1, 1, 1, 1, 1, 1, 1, 1, 1, 1, 1, 1, 1, 1, 1, 1, 1, 1, 1, 1, 1, 1, 1, 1, 1, 1, 1, 1, 1, 1, 1, 1, 1, 1, 1, 1, 1, 1, 1, 1, 1, 1, 1, 1, 1, 1, 1, 1, 1, 1, 1, 1, 1, 1, 1, 1, 1, 1, 1, 1, 1, 1, 1, 1, 1, 1, 1, 1, 1, 1, 1, 1, 1, 1, 1, 1]]}"
            ]
          },
          "metadata": {},
          "execution_count": 49
        }
      ]
    },
    {
      "cell_type": "code",
      "source": [
        ""
      ],
      "metadata": {
        "id": "bbI4RPlz2uSO"
      },
      "execution_count": null,
      "outputs": []
    }
  ]
}