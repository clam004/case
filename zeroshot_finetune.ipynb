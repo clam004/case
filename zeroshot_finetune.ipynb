{
  "nbformat": 4,
  "nbformat_minor": 0,
  "metadata": {
    "colab": {
      "name": "zeroshot_finetune.ipynb",
      "provenance": [],
      "collapsed_sections": [],
      "authorship_tag": "ABX9TyMMk4x5y2zNkenWaImANbV3",
      "include_colab_link": true
    },
    "kernelspec": {
      "name": "python3",
      "display_name": "Python 3"
    },
    "language_info": {
      "name": "python"
    },
    "accelerator": "GPU",
    "gpuClass": "standard"
  },
  "cells": [
    {
      "cell_type": "markdown",
      "metadata": {
        "id": "view-in-github",
        "colab_type": "text"
      },
      "source": [
        "<a href=\"https://colab.research.google.com/github/clam004/case/blob/main/zeroshot_finetune.ipynb\" target=\"_parent\"><img src=\"https://colab.research.google.com/assets/colab-badge.svg\" alt=\"Open In Colab\"/></a>"
      ]
    },
    {
      "cell_type": "code",
      "source": [
        "# load dependencies into our python environment\n",
        "%%capture\n",
        "! pip install transformers[sentencepiece]"
      ],
      "metadata": {
        "id": "Z09tJtRrs5Kk"
      },
      "execution_count": 3,
      "outputs": []
    },
    {
      "cell_type": "markdown",
      "source": [
        "If you get an error like:\n",
        "\n",
        "`Transport endpoint is not connected`\n",
        "\n",
        "Goto Runtime on menubar and click on restart runtime option"
      ],
      "metadata": {
        "id": "UwSaYIEuXTd0"
      }
    },
    {
      "cell_type": "code",
      "execution_count": 1,
      "metadata": {
        "colab": {
          "base_uri": "https://localhost:8080/"
        },
        "id": "tQWTjdGapx4g",
        "outputId": "b94f9de0-8fae-47e2-be88-df0cb9707f79"
      },
      "outputs": [
        {
          "output_type": "stream",
          "name": "stdout",
          "text": [
            "Drive already mounted at /content/drive; to attempt to forcibly remount, call drive.mount(\"/content/drive\", force_remount=True).\n",
            "/content/drive/MyDrive/case\n",
            "ACES.ipynb   __pycache__\t\t       utils.py\n",
            "data\t     sol.ipynb\t\t\t       zeroshot_finetune.ipynb\n",
            "modelstates  T0_3B_dialog_summarization.ipynb\n"
          ]
        }
      ],
      "source": [
        "# Mount to my google drive which is where ive stored the data\n",
        "from google.colab import drive\n",
        "drive.mount('/content/drive')\n",
        "%cd drive/MyDrive/case\n",
        "!ls"
      ]
    },
    {
      "cell_type": "code",
      "source": [
        "#sys libs\n",
        "import os\n",
        "import sys\n",
        "import random\n",
        "import time\n",
        "import re\n",
        "import json\n",
        "\n",
        "#string manupulation libs\n",
        "import re\n",
        "import string\n",
        "\n",
        "#data manupulation libs\n",
        "import numpy as np\n",
        "import pandas as pd\n",
        "\n",
        "#plotting tools\n",
        "from matplotlib import pyplot as plt \n",
        "\n",
        "#torch libs\n",
        "import torch\n",
        "print('torch.__version__', torch.__version__)\n",
        "from torch.utils.data import DataLoader, Dataset\n",
        "import torch.nn as nn\n",
        "import torch.optim as optim\n",
        "import torch.nn.functional as F\n",
        "from torch.utils.data import DataLoader, Dataset, RandomSampler, SequentialSampler\n",
        "\n",
        "print('torch.cuda.device_count()', torch.cuda.device_count())\n",
        "print('torch.cuda.empty_cache()', torch.cuda.empty_cache())\n",
        "\n",
        "#huggingface transformers\n",
        "import transformers\n",
        "print('transformers.__version__', transformers.__version__)\n",
        "from transformers import set_seed\n",
        "from transformers import GPT2Tokenizer, GPT2LMHeadModel\n",
        "\n",
        "#seeds\n",
        "set_seed(42)\n",
        "np.random.seed(0)\n",
        "random.seed(0)\n",
        "torch.manual_seed(0)\n",
        "\n",
        "#jupyter stuff\n",
        "%load_ext autoreload\n",
        "%autoreload 2"
      ],
      "metadata": {
        "colab": {
          "base_uri": "https://localhost:8080/"
        },
        "id": "VYukaZaSSiTo",
        "outputId": "11cd3f39-8eb7-40d2-9477-818c3f1d2d63"
      },
      "execution_count": 4,
      "outputs": [
        {
          "output_type": "stream",
          "name": "stdout",
          "text": [
            "torch.__version__ 1.11.0+cu113\n",
            "torch.cuda.device_count() 0\n",
            "torch.cuda.empty_cache() None\n",
            "transformers.__version__ 4.20.1\n"
          ]
        }
      ]
    },
    {
      "cell_type": "code",
      "source": [
        "proportion_to_valiation = 0.3\n",
        "\n",
        "#df = pd.read_excel('Training_Data.xlsx')\n",
        "df = pd.ExcelFile('Training_Data.xlsx')\n",
        "\n",
        "print(df.sheet_names)  # see all sheet names\n",
        "\n",
        "df = df.parse('Emergency')\n",
        "\n",
        "df=df.dropna()\n",
        "\n",
        "df['Label']= df['Label'].astype(str)\n",
        "\n",
        "#df['Label'].str.strip()\n",
        "\n",
        "print(df['Label'].value_counts())\n",
        "\n",
        "records = df.to_records(index=False)\n",
        "result = list(records)\n",
        "\n",
        "neutral_count = 0\n",
        "emerg_count = 0\n",
        "for r in result:\n",
        "  if r[1].strip() == 'emergency':\n",
        "    emerg_count += 1\n",
        "  else:\n",
        "    neutral_count +=1\n",
        "print(\"neutral_count, emerg_count\", neutral_count, emerg_count)\n",
        "\n",
        "print(\"number of total samples\", len(result))\n",
        "\n",
        "random.shuffle(result)\n",
        "\n",
        "val_list = result[:int(len(result)*proportion_to_valiation)]\n",
        "train_list = result[int(len(result)*proportion_to_valiation):]\n",
        "\n",
        "print('len(val_list)', len(val_list))\n",
        "print(val_list[:8])\n",
        "print(train_list[:8])"
      ],
      "metadata": {
        "colab": {
          "base_uri": "https://localhost:8080/"
        },
        "id": "mRrg2eYEp5AF",
        "outputId": "da4618b2-7bb4-4c5e-9576-05a2c77cc072"
      },
      "execution_count": 12,
      "outputs": [
        {
          "output_type": "stream",
          "name": "stdout",
          "text": [
            "['Emergency', 'Discrimination', 'Lewd', 'Medical_Questions', 'Dialog', 'Sheet1']\n",
            "neutral      82\n",
            "emergency    76\n",
            "neutral      41\n",
            "Name: Label, dtype: int64\n",
            "neutral_count, emerg_count 123 76\n",
            "number of total samples 199\n",
            "len(val_list) 59\n",
            "[('Fire alarm is broken it keeps blaring, my son called technician', 'neutral'), ('i dreamt i ran into my favorite singer', 'neutral'), ('My neighbor is driving me crazy', 'neutral '), ('i cant live anymore i want to kill myself or die in my sleep', 'emergency'), ('After hearing her story I felt sick to my stomach', 'neutral'), ('We need to break in our newly purchase car', 'neutral'), ('my son has been hitting me', 'emergency'), ('I am going to puke if I see another burger', 'neutral ')]\n",
            "[('My son almost punched me', 'emergency'), ('Father is abusive when I was a child. I am better now', 'neutral'), ('I will die if someone tickled me that way ', 'neutral '), ('I chew slowly  now , sometimes food gets stuck in my throat', 'neutral'), ('I love watching the leaves fall to the ground. ', 'neutral'), (\"i don't get confused, I just forgot the phone number\", 'neutral '), (\"Get me someone, I'm bored\", 'neutral'), ('The smell from outside is nauseating', 'neutral')]\n"
          ]
        }
      ]
    },
    {
      "cell_type": "markdown",
      "source": [
        "123+76=199\n",
        "\n",
        "123/199 = .618"
      ],
      "metadata": {
        "id": "Mz4hCavt9Jsc"
      }
    },
    {
      "cell_type": "code",
      "source": [
        "pretrained_model = 'gpt2-medium'#'gpt2-large'#'gpt2-xl'#'gpt2'#\n",
        "\n",
        "cache_dir = os.path.join(\n",
        "    \"./modelstates/hugface_models/\",\n",
        "    pretrained_model,\n",
        ")\n",
        "\n",
        "print(\"cache_dir=\", cache_dir)\n",
        "\n",
        "model_save_path = os.path.join(\n",
        "    \"./modelstates/finetuned_models\",\n",
        "    pretrained_model,\n",
        ")\n",
        "\n",
        "print(\"model_save_path=\", model_save_path)\n",
        "\n",
        "tokenizer = GPT2Tokenizer.from_pretrained(\n",
        "    pretrained_model,\n",
        "    cache_dir=cache_dir,\n",
        ")\n",
        "\n",
        "model = GPT2LMHeadModel.from_pretrained(\n",
        "    pretrained_model,\n",
        "    cache_dir=cache_dir,\n",
        ")"
      ],
      "metadata": {
        "colab": {
          "base_uri": "https://localhost:8080/"
        },
        "id": "DuEDCk0LsxPU",
        "outputId": "d89d97c0-1b3d-47d0-bfb0-c9322da7a671"
      },
      "execution_count": null,
      "outputs": [
        {
          "output_type": "stream",
          "name": "stdout",
          "text": [
            "cache_dir= ./modelstates/hugface_models/gpt2-large\n",
            "model_save_path= ./modelstates/finetuned_models/gpt2-large\n"
          ]
        }
      ]
    },
    {
      "cell_type": "code",
      "source": [
        "def end_punctuation(utter):\n",
        "    \n",
        "    if len(utter) > 0:\n",
        "      if utter[-1] not in [\"?\",\"!\",\".\"]:\n",
        "          utter+=\".\"\n",
        "        \n",
        "    return utter\n",
        "\n",
        "def get_prompt(\n",
        "    query_text,\n",
        "    label_text='',\n",
        "    prefix = '###',\n",
        "    example_symbol = '[Text]:', \n",
        "    label_symbol = '[Label]:', \n",
        "    join_separator = '', \n",
        "):\n",
        "    \n",
        "    detect_prompt = []\n",
        "    \n",
        "    detect_prompt.append(prefix)\n",
        "\n",
        "    query_text = end_punctuation(query_text.strip())\n",
        "    detect_prompt.append(example_symbol+query_text)\n",
        "\n",
        "    label_text = end_punctuation(label_text.strip())\n",
        "    detect_prompt.append(label_symbol+label_text)\n",
        "    \n",
        "    return join_separator.join(detect_prompt)\n",
        "\n",
        "print(get_prompt(val_list[0][0]))\n",
        "print(get_prompt(val_list[0][0],val_list[0][1]))"
      ],
      "metadata": {
        "colab": {
          "base_uri": "https://localhost:8080/"
        },
        "id": "mGiTRgi7X232",
        "outputId": "6394d7df-7585-4251-d50d-317689d829f0"
      },
      "execution_count": null,
      "outputs": [
        {
          "output_type": "stream",
          "name": "stdout",
          "text": [
            "###[Text]:i just got run over by a car.[Label]:\n",
            "###[Text]:i just got run over by a car.[Label]:emergency.\n"
          ]
        }
      ]
    },
    {
      "cell_type": "code",
      "source": [
        "class EmotionDataset(Dataset):\n",
        "\n",
        "    def __init__(self, tuple_list, tokenizer, chunk_size = 256):\n",
        "\n",
        "        self.input_ids = []\n",
        "        self.attn_masks = []\n",
        "        self.input_token_lens = []\n",
        "\n",
        "        def prompt2tensors(tuple_list, i):\n",
        "\n",
        "            prompt = get_prompt(\n",
        "                query_text = tuple_list[i][0],\n",
        "                label_text = tuple_list[i][1],\n",
        "            )\n",
        "\n",
        "            encodings_dict = tokenizer(prompt, return_tensors=\"pt\")\n",
        "\n",
        "            input_ids = encodings_dict['input_ids']    \n",
        "            attention_mask = encodings_dict['attention_mask']\n",
        "            input_token_len = input_ids.shape[1]\n",
        "\n",
        "            return input_ids, attention_mask, input_token_len\n",
        "\n",
        "        print('len(tuple_list)', len(tuple_list))\n",
        "        \n",
        "        for i in range(len(tuple_list)):\n",
        "\n",
        "            unfilled_chunk = True\n",
        "\n",
        "            input_ids = torch.zeros(1, 0)\n",
        "            attention_mask = torch.zeros(1, 0)\n",
        "            input_token_len = 0\n",
        "            j = i\n",
        "\n",
        "            while unfilled_chunk:\n",
        "\n",
        "              input_ids_, attention_mask_, input_token_len_ = \\\n",
        "                prompt2tensors(tuple_list, j)\n",
        "              self.input_token_lens.append(input_token_len_)\n",
        "\n",
        "              input_token_len += input_token_len_\n",
        "              input_ids = torch.cat([input_ids, input_ids_], dim=1)\n",
        "              attention_mask = torch.cat([attention_mask, attention_mask_], dim=1)\n",
        "\n",
        "              if input_token_len > chunk_size:\n",
        "                input_ids = input_ids[:,:chunk_size]\n",
        "                attention_mask = attention_mask[:,:chunk_size]\n",
        "                unfilled_chunk = False\n",
        "              else:\n",
        "                j = random.randint(0, len(tuple_list)-1)\n",
        "\n",
        "            self.input_ids.append(input_ids.long())\n",
        "            self.attn_masks.append(attention_mask.long())\n",
        "\n",
        "        print('mean', np.mean(self.input_token_lens), 'min', min(self.input_token_lens), 'max', max(self.input_token_lens))\n",
        "\n",
        "    def __len__(self):\n",
        "        return len(self.input_ids)\n",
        "\n",
        "    def __getitem__(self, idx):\n",
        "        return self.input_ids[idx], self.attn_masks[idx]\n",
        "\n",
        "traindata = EmotionDataset(train_list, tokenizer, chunk_size = 64)\n",
        "\n",
        "tokenizer.batch_decode(traindata.__getitem__(0)[0])"
      ],
      "metadata": {
        "colab": {
          "base_uri": "https://localhost:8080/"
        },
        "id": "82w6d_hotHc6",
        "outputId": "34edb534-9e14-40f6-c301-8dd0f0531954"
      },
      "execution_count": null,
      "outputs": [
        {
          "output_type": "stream",
          "name": "stdout",
          "text": [
            "len(tuple_list) 108\n",
            "mean 17.37250554323725 min 12 max 24\n"
          ]
        },
        {
          "output_type": "execute_result",
          "data": {
            "text/plain": [
              "[\"###[Text]:I am having a heart attack.[Label]:emergency.###[Text]:My phone screen has cracked on it.[Label]:neutral.###[Text]:She's been giving me such a headache.[Label]:neutral.###[Text]:respond faster buddy or youll hurt my feelings.[Label\"]"
            ]
          },
          "metadata": {},
          "execution_count": 7
        }
      ]
    },
    {
      "cell_type": "code",
      "source": [
        "batch_size = 2\n",
        "\n",
        "# Take training samples in random order. \n",
        "train_dataloader = DataLoader(\n",
        "    traindata,  # The training samples.\n",
        "    sampler = RandomSampler(traindata), # Select batches randomly. \n",
        "    batch_size = batch_size # Trains with this batch size.\n",
        ")\n",
        "\n",
        "for batch_idx, samples in enumerate(train_dataloader):\n",
        "\n",
        "      break\n",
        "\n",
        "samples[0].squeeze(1).shape"
      ],
      "metadata": {
        "colab": {
          "base_uri": "https://localhost:8080/"
        },
        "id": "owDA-DT-UDL5",
        "outputId": "c8b56188-a70c-4210-c47c-78f6d04c5c61"
      },
      "execution_count": null,
      "outputs": [
        {
          "output_type": "execute_result",
          "data": {
            "text/plain": [
              "torch.Size([2, 64])"
            ]
          },
          "metadata": {},
          "execution_count": 8
        }
      ]
    },
    {
      "cell_type": "code",
      "source": [
        "class BaseAgent(torch.nn.Module):\n",
        "\n",
        "    def __init__(self, model, tokenizer):\n",
        "        \n",
        "        super().__init__()\n",
        "        \n",
        "        self.model = model\n",
        "        self.tokenizer = tokenizer\n",
        "        \n",
        "        self.optimizer = torch.optim.Adam(\n",
        "            self.model.parameters(),\n",
        "            lr=0.00001,\n",
        "            betas=(0.9, 0.98),\n",
        "            eps=1e-9,\n",
        "        )\n",
        "        \n",
        "        self.num_gpus = torch.cuda.device_count()\n",
        "        \n",
        "        if self.num_gpus > 1:\n",
        "            self.model.parallelize()\n",
        "        elif self.num_gpus == 1:\n",
        "            self.gpu0 = torch.device('cuda:0')\n",
        "            #self.model = self.model.cuda()\n",
        "            self.model = self.model.to(self.gpu0)\n",
        "            '''you can do .to(cuda0) with tensors to'''\n",
        "            \n",
        "        print('self.model.device', self.model.device)\n",
        "        \n",
        "        self.num_params = \\\n",
        "          sum(p.numel() for p in self.model.parameters() if p.requires_grad)\n",
        "        print(\"num_params\", self.num_params/1e6, \"Million Parameters\")\n",
        "        \n",
        "    def get_response(self, prompt, max_len = 16, no_repeat_ngram_size = None):\n",
        "        \n",
        "        prompt_dic = self.tokenizer(prompt,return_tensors=\"pt\")\n",
        "        prompt_ids = prompt_dic.input_ids\n",
        "        prompt_mask = prompt_dic.attention_mask\n",
        "        prompt_len = prompt_ids.shape[1]\n",
        "        \n",
        "        if self.num_gpus > 0:\n",
        "            prompt_ids = prompt_ids.to(self.model.device)\n",
        "            prompt_mask = prompt_mask.to(self.model.device)\n",
        "        \n",
        "        prompt_len = prompt_ids.shape[1]\n",
        "        \n",
        "        output_ids = self.model.generate(\n",
        "            prompt_ids,\n",
        "            attention_mask = prompt_mask,\n",
        "            max_length = prompt_len+max_len,\n",
        "            no_repeat_ngram_size = no_repeat_ngram_size,\n",
        "            pad_token_id=tokenizer.eos_token_id,\n",
        "        )\n",
        "\n",
        "        generated_text = self.tokenizer.batch_decode(output_ids)[0]\n",
        "        \n",
        "        return generated_text\n",
        "    \n",
        "    def memorize(self, prompt, num_epochs = 3):\n",
        "\n",
        "        print('start training loop')\n",
        "\n",
        "        \"\"\" This is a rudimentary training loop\n",
        "        that will train the agent to learn one\n",
        "        sequence, the prompt. With enough epochs, this should\n",
        "        result in memorizing the sequence, which is why this\n",
        "        class method was names memorize. \n",
        "        There is nothing returned because the model attribute is modified inplace. \n",
        "        Args:\n",
        "            prompt (string): the text to be learned\n",
        "            num_epochs (int): the number of times we cycle though the training data, only 1 sample in this case\n",
        "        \"\"\"\n",
        "\n",
        "        prompt_dic = self.tokenizer(prompt,return_tensors=\"pt\")\n",
        "        prompt_ids = prompt_dic.input_ids\n",
        "        prompt_mask = prompt_dic.attention_mask\n",
        "        prompt_len = prompt_ids.shape[1]\n",
        "\n",
        "        if self.num_gpus > 0:\n",
        "            prompt_ids = prompt_ids.to(self.model.device)\n",
        "            prompt_mask = prompt_mask.to(self.model.device)\n",
        "            \n",
        "        source_ids = prompt_ids[:,:-1]\n",
        "        target_ids = prompt_ids[:,1:]\n",
        "        source_mask = prompt_mask[:,:-1]\n",
        "        target_mask = prompt_mask[:,1:]\n",
        "\n",
        "        # allow params to be updated\n",
        "        self.model.train()\n",
        "\n",
        "        for e in range(num_epochs):\n",
        "\n",
        "            outputs = self.model(\n",
        "                input_ids = prompt_ids,\n",
        "                labels = prompt_ids,\n",
        "                attention_mask = prompt_mask,\n",
        "                token_type_ids=None,\n",
        "            )\n",
        "\n",
        "            # used logits and target tokens to calculate the loss\n",
        "            loss = outputs.loss\n",
        "            logits = outputs.logits\n",
        "\n",
        "            # backward pass\n",
        "            self.optimizer.zero_grad()\n",
        "            loss.backward()\n",
        "            torch.nn.utils.clip_grad_norm_(self.model.parameters(), 1.0)\n",
        "            self.optimizer.step()\n",
        "\n",
        "            print(\"epoch\", e, \"loss\", loss.item())\n",
        "\n",
        "        torch.cuda.empty_cache()\n",
        "\n",
        "    \n",
        "    def train(self, train_dataloader, num_epochs = 3):\n",
        "\n",
        "      self.model.train()\n",
        "\n",
        "      for epoch in range(num_epochs):\n",
        "\n",
        "        for batch_idx, samples in enumerate(train_dataloader):\n",
        "\n",
        "          samples = [s.to(self.model.device) for s in samples]\n",
        "\n",
        "          outputs = self.model(\n",
        "              input_ids = samples[0].squeeze(1),\n",
        "              labels = samples[0].squeeze(1),\n",
        "              attention_mask = samples[1].squeeze(1),\n",
        "              token_type_ids=None,\n",
        "          )\n",
        "\n",
        "          # used logits and target tokens to calculate the loss\n",
        "          loss = outputs.loss\n",
        "          logits = outputs.logits\n",
        "\n",
        "          # backward pass\n",
        "          self.optimizer.zero_grad()\n",
        "          loss.backward()\n",
        "          torch.nn.utils.clip_grad_norm_(self.model.parameters(), 1.0)\n",
        "          self.optimizer.step()\n",
        "\n",
        "        print(\"epoch\", epoch, \"loss\", loss.item())\n",
        "\n",
        "      torch.cuda.empty_cache()\n",
        "\n",
        "    def eval(self, tuple_list, few_shot_list):\n",
        "\n",
        "      f = ''\n",
        "\n",
        "      for t in range(len(few_shot_list)):\n",
        "\n",
        "        w = get_prompt(\n",
        "            query_text = few_shot_list[t][0],\n",
        "            label_text = few_shot_list[t][1],\n",
        "        )\n",
        "\n",
        "        f += w\n",
        "\n",
        "      self.model.eval()\n",
        "\n",
        "      accuracy_list = []\n",
        "\n",
        "      for i in range(len(tuple_list)):\n",
        "\n",
        "        x = get_prompt(\n",
        "            query_text = tuple_list[i][0],\n",
        "        )\n",
        "\n",
        "        x = f+x\n",
        "\n",
        "        y = tuple_list[i][1].strip()\n",
        "\n",
        "        y_hat = self.get_response(x)\n",
        "\n",
        "        y_hat = y_hat[len(x):].strip()\n",
        "\n",
        "        if '.' in y_hat:\n",
        "          y_hat = y_hat[:y_hat.index('.')]\n",
        "\n",
        "        accuracy_list.append(y == y_hat)\n",
        "        '''\n",
        "        print(' ')\n",
        "        print(x)\n",
        "        print('_____________')\n",
        "        print(y_hat)\n",
        "        print('_____________')\n",
        "        print(y)\n",
        "        '''\n",
        "        #break\n",
        "      print(' ')\n",
        "      print(x)\n",
        "      print('_____________')\n",
        "      print(y_hat)\n",
        "      print('_____________')\n",
        "      print(y)\n",
        "      return np.mean(accuracy_list), accuracy_list\n",
        "\n",
        "agent = BaseAgent(model, tokenizer)"
      ],
      "metadata": {
        "colab": {
          "base_uri": "https://localhost:8080/"
        },
        "id": "9N01uvaiX5uO",
        "outputId": "d1cc94ee-fcf7-402a-c569-c16a7d867785"
      },
      "execution_count": null,
      "outputs": [
        {
          "output_type": "stream",
          "name": "stdout",
          "text": [
            "self.model.device cuda:0\n",
            "num_params 774.03008 Million Parameters\n"
          ]
        }
      ]
    },
    {
      "cell_type": "code",
      "source": [
        "acc, exam = agent.eval(val_list, train_list[:4])\n",
        "acc"
      ],
      "metadata": {
        "colab": {
          "base_uri": "https://localhost:8080/"
        },
        "id": "EH9UiAALuaqc",
        "outputId": "b21ba78b-1dcf-4459-fff2-5793609e05a5"
      },
      "execution_count": null,
      "outputs": [
        {
          "output_type": "stream",
          "name": "stdout",
          "text": [
            " \n",
            "###[Text]:I am having a heart attack.[Label]:emergency.###[Text]:my nurse hasn't come yet and it's been an hour.[Label]:emergency.###[Text]:I fell asleep on the couch.[Label]:neutral.###[Text]:my blood sugar is very high today.[Label]:emergency.###[Text]:I cut myself while cooking and its bleeding.[Label]:\n",
            "_____________\n",
            "emergency\n",
            "_____________\n",
            "emergency\n"
          ]
        },
        {
          "output_type": "execute_result",
          "data": {
            "text/plain": [
              "0.5434782608695652"
            ]
          },
          "metadata": {},
          "execution_count": 10
        }
      ]
    },
    {
      "cell_type": "code",
      "source": [
        "agent.train(train_dataloader, num_epochs = 3)"
      ],
      "metadata": {
        "colab": {
          "base_uri": "https://localhost:8080/",
          "height": 371
        },
        "id": "B97qnopRtXGz",
        "outputId": "4627e0ee-2df5-4031-b602-be897a128e33"
      },
      "execution_count": null,
      "outputs": [
        {
          "output_type": "error",
          "ename": "RuntimeError",
          "evalue": "ignored",
          "traceback": [
            "\u001b[0;31m---------------------------------------------------------------------------\u001b[0m",
            "\u001b[0;31mRuntimeError\u001b[0m                              Traceback (most recent call last)",
            "\u001b[0;32m<ipython-input-72-f88ac1fc8ab1>\u001b[0m in \u001b[0;36m<module>\u001b[0;34m()\u001b[0m\n\u001b[0;32m----> 1\u001b[0;31m \u001b[0magent\u001b[0m\u001b[0;34m.\u001b[0m\u001b[0mtrain\u001b[0m\u001b[0;34m(\u001b[0m\u001b[0mtrain_dataloader\u001b[0m\u001b[0;34m,\u001b[0m \u001b[0mnum_epochs\u001b[0m \u001b[0;34m=\u001b[0m \u001b[0;36m3\u001b[0m\u001b[0;34m)\u001b[0m\u001b[0;34m\u001b[0m\u001b[0;34m\u001b[0m\u001b[0m\n\u001b[0m",
            "\u001b[0;32m<ipython-input-70-52dab815ab60>\u001b[0m in \u001b[0;36mtrain\u001b[0;34m(self, train_dataloader, num_epochs)\u001b[0m\n\u001b[1;32m    136\u001b[0m           \u001b[0mloss\u001b[0m\u001b[0;34m.\u001b[0m\u001b[0mbackward\u001b[0m\u001b[0;34m(\u001b[0m\u001b[0;34m)\u001b[0m\u001b[0;34m\u001b[0m\u001b[0;34m\u001b[0m\u001b[0m\n\u001b[1;32m    137\u001b[0m           \u001b[0mtorch\u001b[0m\u001b[0;34m.\u001b[0m\u001b[0mnn\u001b[0m\u001b[0;34m.\u001b[0m\u001b[0mutils\u001b[0m\u001b[0;34m.\u001b[0m\u001b[0mclip_grad_norm_\u001b[0m\u001b[0;34m(\u001b[0m\u001b[0mself\u001b[0m\u001b[0;34m.\u001b[0m\u001b[0mmodel\u001b[0m\u001b[0;34m.\u001b[0m\u001b[0mparameters\u001b[0m\u001b[0;34m(\u001b[0m\u001b[0;34m)\u001b[0m\u001b[0;34m,\u001b[0m \u001b[0;36m1.0\u001b[0m\u001b[0;34m)\u001b[0m\u001b[0;34m\u001b[0m\u001b[0;34m\u001b[0m\u001b[0m\n\u001b[0;32m--> 138\u001b[0;31m           \u001b[0mself\u001b[0m\u001b[0;34m.\u001b[0m\u001b[0moptimizer\u001b[0m\u001b[0;34m.\u001b[0m\u001b[0mstep\u001b[0m\u001b[0;34m(\u001b[0m\u001b[0;34m)\u001b[0m\u001b[0;34m\u001b[0m\u001b[0;34m\u001b[0m\u001b[0m\n\u001b[0m\u001b[1;32m    139\u001b[0m \u001b[0;34m\u001b[0m\u001b[0m\n\u001b[1;32m    140\u001b[0m         \u001b[0mprint\u001b[0m\u001b[0;34m(\u001b[0m\u001b[0;34m\"epoch\"\u001b[0m\u001b[0;34m,\u001b[0m \u001b[0mepoch\u001b[0m\u001b[0;34m,\u001b[0m \u001b[0;34m\"loss\"\u001b[0m\u001b[0;34m,\u001b[0m \u001b[0mloss\u001b[0m\u001b[0;34m.\u001b[0m\u001b[0mitem\u001b[0m\u001b[0;34m(\u001b[0m\u001b[0;34m)\u001b[0m\u001b[0;34m)\u001b[0m\u001b[0;34m\u001b[0m\u001b[0;34m\u001b[0m\u001b[0m\n",
            "\u001b[0;32m/usr/local/lib/python3.7/dist-packages/torch/optim/optimizer.py\u001b[0m in \u001b[0;36mwrapper\u001b[0;34m(*args, **kwargs)\u001b[0m\n\u001b[1;32m     86\u001b[0m                 \u001b[0mprofile_name\u001b[0m \u001b[0;34m=\u001b[0m \u001b[0;34m\"Optimizer.step#{}.step\"\u001b[0m\u001b[0;34m.\u001b[0m\u001b[0mformat\u001b[0m\u001b[0;34m(\u001b[0m\u001b[0mobj\u001b[0m\u001b[0;34m.\u001b[0m\u001b[0m__class__\u001b[0m\u001b[0;34m.\u001b[0m\u001b[0m__name__\u001b[0m\u001b[0;34m)\u001b[0m\u001b[0;34m\u001b[0m\u001b[0;34m\u001b[0m\u001b[0m\n\u001b[1;32m     87\u001b[0m                 \u001b[0;32mwith\u001b[0m \u001b[0mtorch\u001b[0m\u001b[0;34m.\u001b[0m\u001b[0mautograd\u001b[0m\u001b[0;34m.\u001b[0m\u001b[0mprofiler\u001b[0m\u001b[0;34m.\u001b[0m\u001b[0mrecord_function\u001b[0m\u001b[0;34m(\u001b[0m\u001b[0mprofile_name\u001b[0m\u001b[0;34m)\u001b[0m\u001b[0;34m:\u001b[0m\u001b[0;34m\u001b[0m\u001b[0;34m\u001b[0m\u001b[0m\n\u001b[0;32m---> 88\u001b[0;31m                     \u001b[0;32mreturn\u001b[0m \u001b[0mfunc\u001b[0m\u001b[0;34m(\u001b[0m\u001b[0;34m*\u001b[0m\u001b[0margs\u001b[0m\u001b[0;34m,\u001b[0m \u001b[0;34m**\u001b[0m\u001b[0mkwargs\u001b[0m\u001b[0;34m)\u001b[0m\u001b[0;34m\u001b[0m\u001b[0;34m\u001b[0m\u001b[0m\n\u001b[0m\u001b[1;32m     89\u001b[0m             \u001b[0;32mreturn\u001b[0m \u001b[0mwrapper\u001b[0m\u001b[0;34m\u001b[0m\u001b[0;34m\u001b[0m\u001b[0m\n\u001b[1;32m     90\u001b[0m \u001b[0;34m\u001b[0m\u001b[0m\n",
            "\u001b[0;32m/usr/local/lib/python3.7/dist-packages/torch/autograd/grad_mode.py\u001b[0m in \u001b[0;36mdecorate_context\u001b[0;34m(*args, **kwargs)\u001b[0m\n\u001b[1;32m     25\u001b[0m         \u001b[0;32mdef\u001b[0m \u001b[0mdecorate_context\u001b[0m\u001b[0;34m(\u001b[0m\u001b[0;34m*\u001b[0m\u001b[0margs\u001b[0m\u001b[0;34m,\u001b[0m \u001b[0;34m**\u001b[0m\u001b[0mkwargs\u001b[0m\u001b[0;34m)\u001b[0m\u001b[0;34m:\u001b[0m\u001b[0;34m\u001b[0m\u001b[0;34m\u001b[0m\u001b[0m\n\u001b[1;32m     26\u001b[0m             \u001b[0;32mwith\u001b[0m \u001b[0mself\u001b[0m\u001b[0;34m.\u001b[0m\u001b[0mclone\u001b[0m\u001b[0;34m(\u001b[0m\u001b[0;34m)\u001b[0m\u001b[0;34m:\u001b[0m\u001b[0;34m\u001b[0m\u001b[0;34m\u001b[0m\u001b[0m\n\u001b[0;32m---> 27\u001b[0;31m                 \u001b[0;32mreturn\u001b[0m \u001b[0mfunc\u001b[0m\u001b[0;34m(\u001b[0m\u001b[0;34m*\u001b[0m\u001b[0margs\u001b[0m\u001b[0;34m,\u001b[0m \u001b[0;34m**\u001b[0m\u001b[0mkwargs\u001b[0m\u001b[0;34m)\u001b[0m\u001b[0;34m\u001b[0m\u001b[0;34m\u001b[0m\u001b[0m\n\u001b[0m\u001b[1;32m     28\u001b[0m         \u001b[0;32mreturn\u001b[0m \u001b[0mcast\u001b[0m\u001b[0;34m(\u001b[0m\u001b[0mF\u001b[0m\u001b[0;34m,\u001b[0m \u001b[0mdecorate_context\u001b[0m\u001b[0;34m)\u001b[0m\u001b[0;34m\u001b[0m\u001b[0;34m\u001b[0m\u001b[0m\n\u001b[1;32m     29\u001b[0m \u001b[0;34m\u001b[0m\u001b[0m\n",
            "\u001b[0;32m/usr/local/lib/python3.7/dist-packages/torch/optim/adam.py\u001b[0m in \u001b[0;36mstep\u001b[0;34m(self, closure)\u001b[0m\n\u001b[1;32m    121\u001b[0m                         \u001b[0mstate\u001b[0m\u001b[0;34m[\u001b[0m\u001b[0;34m'step'\u001b[0m\u001b[0;34m]\u001b[0m \u001b[0;34m=\u001b[0m \u001b[0;36m0\u001b[0m\u001b[0;34m\u001b[0m\u001b[0;34m\u001b[0m\u001b[0m\n\u001b[1;32m    122\u001b[0m                         \u001b[0;31m# Exponential moving average of gradient values\u001b[0m\u001b[0;34m\u001b[0m\u001b[0;34m\u001b[0m\u001b[0;34m\u001b[0m\u001b[0m\n\u001b[0;32m--> 123\u001b[0;31m                         \u001b[0mstate\u001b[0m\u001b[0;34m[\u001b[0m\u001b[0;34m'exp_avg'\u001b[0m\u001b[0;34m]\u001b[0m \u001b[0;34m=\u001b[0m \u001b[0mtorch\u001b[0m\u001b[0;34m.\u001b[0m\u001b[0mzeros_like\u001b[0m\u001b[0;34m(\u001b[0m\u001b[0mp\u001b[0m\u001b[0;34m,\u001b[0m \u001b[0mmemory_format\u001b[0m\u001b[0;34m=\u001b[0m\u001b[0mtorch\u001b[0m\u001b[0;34m.\u001b[0m\u001b[0mpreserve_format\u001b[0m\u001b[0;34m)\u001b[0m\u001b[0;34m\u001b[0m\u001b[0;34m\u001b[0m\u001b[0m\n\u001b[0m\u001b[1;32m    124\u001b[0m                         \u001b[0;31m# Exponential moving average of squared gradient values\u001b[0m\u001b[0;34m\u001b[0m\u001b[0;34m\u001b[0m\u001b[0;34m\u001b[0m\u001b[0m\n\u001b[1;32m    125\u001b[0m                         \u001b[0mstate\u001b[0m\u001b[0;34m[\u001b[0m\u001b[0;34m'exp_avg_sq'\u001b[0m\u001b[0;34m]\u001b[0m \u001b[0;34m=\u001b[0m \u001b[0mtorch\u001b[0m\u001b[0;34m.\u001b[0m\u001b[0mzeros_like\u001b[0m\u001b[0;34m(\u001b[0m\u001b[0mp\u001b[0m\u001b[0;34m,\u001b[0m \u001b[0mmemory_format\u001b[0m\u001b[0;34m=\u001b[0m\u001b[0mtorch\u001b[0m\u001b[0;34m.\u001b[0m\u001b[0mpreserve_format\u001b[0m\u001b[0;34m)\u001b[0m\u001b[0;34m\u001b[0m\u001b[0;34m\u001b[0m\u001b[0m\n",
            "\u001b[0;31mRuntimeError\u001b[0m: CUDA out of memory. Tried to allocate 20.00 MiB (GPU 0; 14.76 GiB total capacity; 12.99 GiB already allocated; 15.75 MiB free; 13.35 GiB reserved in total by PyTorch) If reserved memory is >> allocated memory try setting max_split_size_mb to avoid fragmentation.  See documentation for Memory Management and PYTORCH_CUDA_ALLOC_CONF"
          ]
        }
      ]
    },
    {
      "cell_type": "code",
      "source": [
        "agent.eval(val_list)"
      ],
      "metadata": {
        "colab": {
          "base_uri": "https://localhost:8080/"
        },
        "id": "AThtO3pVZKdO",
        "outputId": "47177469-202e-48f6-a50c-a594773c396b"
      },
      "execution_count": null,
      "outputs": [
        {
          "output_type": "stream",
          "name": "stderr",
          "text": [
            "Setting `pad_token_id` to `eos_token_id`:50256 for open-end generation.\n",
            "Setting `pad_token_id` to `eos_token_id`:50256 for open-end generation.\n"
          ]
        },
        {
          "output_type": "stream",
          "name": "stdout",
          "text": [
            "_____________\n",
            "____\n",
            "_____________\n",
            "neutral\n"
          ]
        },
        {
          "output_type": "stream",
          "name": "stderr",
          "text": [
            "Setting `pad_token_id` to `eos_token_id`:50256 for open-end generation.\n"
          ]
        },
        {
          "output_type": "stream",
          "name": "stdout",
          "text": [
            "_____________\n",
            "____\n",
            "_____________\n",
            "emergency\n"
          ]
        },
        {
          "output_type": "stream",
          "name": "stderr",
          "text": [
            "Setting `pad_token_id` to `eos_token_id`:50256 for open-end generation.\n"
          ]
        },
        {
          "output_type": "stream",
          "name": "stdout",
          "text": [
            "_____________\n",
            "____\n",
            "_____________\n",
            "neutral\n"
          ]
        },
        {
          "output_type": "stream",
          "name": "stderr",
          "text": [
            "Setting `pad_token_id` to `eos_token_id`:50256 for open-end generation.\n"
          ]
        },
        {
          "output_type": "stream",
          "name": "stdout",
          "text": [
            "_____________\n",
            "____\n",
            "_____________\n",
            "neutral\n"
          ]
        },
        {
          "output_type": "stream",
          "name": "stderr",
          "text": [
            "Setting `pad_token_id` to `eos_token_id`:50256 for open-end generation.\n"
          ]
        },
        {
          "output_type": "stream",
          "name": "stdout",
          "text": [
            "_____________\n",
            "____\n",
            "_____________\n",
            "emergency\n"
          ]
        },
        {
          "output_type": "stream",
          "name": "stderr",
          "text": [
            "Setting `pad_token_id` to `eos_token_id`:50256 for open-end generation.\n"
          ]
        },
        {
          "output_type": "stream",
          "name": "stdout",
          "text": [
            "_____________\n",
            "____\n",
            "###\n",
            "Text: i fell in love when i was a young man\n",
            "_____________\n",
            "emergency\n"
          ]
        },
        {
          "output_type": "stream",
          "name": "stderr",
          "text": [
            "Setting `pad_token_id` to `eos_token_id`:50256 for open-end generation.\n"
          ]
        },
        {
          "output_type": "stream",
          "name": "stdout",
          "text": [
            "_____________\n",
            "____\n",
            "_____________\n",
            "neutral\n"
          ]
        },
        {
          "output_type": "stream",
          "name": "stderr",
          "text": [
            "Setting `pad_token_id` to `eos_token_id`:50256 for open-end generation.\n"
          ]
        },
        {
          "output_type": "stream",
          "name": "stdout",
          "text": [
            "_____________\n",
            "____\n",
            "_____________\n",
            "emergency\n"
          ]
        },
        {
          "output_type": "stream",
          "name": "stderr",
          "text": [
            "Setting `pad_token_id` to `eos_token_id`:50256 for open-end generation.\n"
          ]
        },
        {
          "output_type": "stream",
          "name": "stdout",
          "text": [
            "_____________\n",
            "____\n",
            "_____________\n",
            "emergency\n"
          ]
        },
        {
          "output_type": "stream",
          "name": "stderr",
          "text": [
            "Setting `pad_token_id` to `eos_token_id`:50256 for open-end generation.\n"
          ]
        },
        {
          "output_type": "stream",
          "name": "stdout",
          "text": [
            "_____________\n",
            "____\n",
            "_____________\n",
            "emergency\n"
          ]
        },
        {
          "output_type": "stream",
          "name": "stderr",
          "text": [
            "Setting `pad_token_id` to `eos_token_id`:50256 for open-end generation.\n"
          ]
        },
        {
          "output_type": "stream",
          "name": "stdout",
          "text": [
            "_____________\n",
            "____\n",
            "_____________\n",
            "emergency\n"
          ]
        },
        {
          "output_type": "stream",
          "name": "stderr",
          "text": [
            "Setting `pad_token_id` to `eos_token_id`:50256 for open-end generation.\n"
          ]
        },
        {
          "output_type": "stream",
          "name": "stdout",
          "text": [
            "_____________\n",
            "____\n",
            "_____________\n",
            "emergency\n"
          ]
        },
        {
          "output_type": "stream",
          "name": "stderr",
          "text": [
            "Setting `pad_token_id` to `eos_token_id`:50256 for open-end generation.\n"
          ]
        },
        {
          "output_type": "stream",
          "name": "stdout",
          "text": [
            "_____________\n",
            "vernacular\n",
            "_____________\n",
            "emergency\n",
            "_____________\n",
            "____\n",
            "_____________\n",
            "emergency\n"
          ]
        },
        {
          "output_type": "execute_result",
          "data": {
            "text/plain": [
              "(0.0,\n",
              " [False,\n",
              "  False,\n",
              "  False,\n",
              "  False,\n",
              "  False,\n",
              "  False,\n",
              "  False,\n",
              "  False,\n",
              "  False,\n",
              "  False,\n",
              "  False,\n",
              "  False,\n",
              "  False,\n",
              "  False])"
            ]
          },
          "metadata": {},
          "execution_count": 21
        }
      ]
    },
    {
      "cell_type": "code",
      "source": [
        ""
      ],
      "metadata": {
        "id": "qMqTAuHlb6SW"
      },
      "execution_count": null,
      "outputs": []
    }
  ]
}