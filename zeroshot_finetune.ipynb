{
  "nbformat": 4,
  "nbformat_minor": 0,
  "metadata": {
    "colab": {
      "name": "zeroshot_finetune.ipynb",
      "provenance": [],
      "collapsed_sections": [],
      "authorship_tag": "ABX9TyNiHYeVO79exgPKtz5Epn/2",
      "include_colab_link": true
    },
    "kernelspec": {
      "name": "python3",
      "display_name": "Python 3"
    },
    "language_info": {
      "name": "python"
    },
    "accelerator": "GPU",
    "gpuClass": "standard"
  },
  "cells": [
    {
      "cell_type": "markdown",
      "metadata": {
        "id": "view-in-github",
        "colab_type": "text"
      },
      "source": [
        "<a href=\"https://colab.research.google.com/github/clam004/case/blob/main/zeroshot_finetune.ipynb\" target=\"_parent\"><img src=\"https://colab.research.google.com/assets/colab-badge.svg\" alt=\"Open In Colab\"/></a>"
      ]
    },
    {
      "cell_type": "code",
      "source": [
        "# load dependencies into our python environment\n",
        "%%capture\n",
        "! pip install transformers[sentencepiece]"
      ],
      "metadata": {
        "id": "Z09tJtRrs5Kk"
      },
      "execution_count": 1,
      "outputs": []
    },
    {
      "cell_type": "markdown",
      "source": [
        "If you get an error like:\n",
        "\n",
        "`Transport endpoint is not connected`\n",
        "\n",
        "Goto Runtime on menubar and click on restart runtime option"
      ],
      "metadata": {
        "id": "UwSaYIEuXTd0"
      }
    },
    {
      "cell_type": "code",
      "execution_count": 2,
      "metadata": {
        "colab": {
          "base_uri": "https://localhost:8080/"
        },
        "id": "tQWTjdGapx4g",
        "outputId": "53599e6b-db10-4388-f06e-d810bd7d84f7"
      },
      "outputs": [
        {
          "output_type": "stream",
          "name": "stdout",
          "text": [
            "Drive already mounted at /content/drive; to attempt to forcibly remount, call drive.mount(\"/content/drive\", force_remount=True).\n",
            "/content/drive/MyDrive/case\n",
            "ACES.ipynb\t\t\t     sol.ipynb\n",
            "data\t\t\t\t     T0_3B_dialog_summarization.ipynb\n",
            "Few_Shot_Emergency_FineTuning.ipynb  Training_Data.xlsx\n",
            "modelstates\t\t\t     utils.py\n",
            "__pycache__\n"
          ]
        }
      ],
      "source": [
        "# Mount to my google drive which is where ive stored the data\n",
        "from google.colab import drive\n",
        "drive.mount('/content/drive')\n",
        "%cd drive/MyDrive/case\n",
        "!ls"
      ]
    },
    {
      "cell_type": "code",
      "source": [
        "#sys libs\n",
        "import os\n",
        "import sys\n",
        "import random\n",
        "import time\n",
        "import re\n",
        "import json\n",
        "\n",
        "#string manupulation libs\n",
        "import re\n",
        "import string\n",
        "\n",
        "#data manupulation libs\n",
        "import numpy as np\n",
        "import pandas as pd\n",
        "\n",
        "#plotting tools\n",
        "from matplotlib import pyplot as plt \n",
        "\n",
        "#torch libs\n",
        "import torch\n",
        "print('torch.__version__', torch.__version__)\n",
        "from torch.utils.data import DataLoader, Dataset\n",
        "import torch.nn as nn\n",
        "import torch.optim as optim\n",
        "import torch.nn.functional as F\n",
        "from torch.utils.data import DataLoader, Dataset, RandomSampler, SequentialSampler\n",
        "\n",
        "print('torch.cuda.device_count()', torch.cuda.device_count())\n",
        "print('torch.cuda.empty_cache()', torch.cuda.empty_cache())\n",
        "\n",
        "#huggingface transformers\n",
        "import transformers\n",
        "print('transformers.__version__', transformers.__version__)\n",
        "from transformers import set_seed\n",
        "from transformers import GPT2Tokenizer, GPT2LMHeadModel\n",
        "\n",
        "#seeds\n",
        "set_seed(42)\n",
        "np.random.seed(0)\n",
        "random.seed(0)\n",
        "torch.manual_seed(0)\n",
        "\n",
        "#jupyter stuff\n",
        "%load_ext autoreload\n",
        "%autoreload 2"
      ],
      "metadata": {
        "colab": {
          "base_uri": "https://localhost:8080/"
        },
        "id": "VYukaZaSSiTo",
        "outputId": "bfc37a70-109b-4346-aa8a-2c2aaaced3f4"
      },
      "execution_count": 3,
      "outputs": [
        {
          "output_type": "stream",
          "name": "stdout",
          "text": [
            "torch.__version__ 1.11.0+cu113\n",
            "torch.cuda.device_count() 1\n",
            "torch.cuda.empty_cache() None\n",
            "transformers.__version__ 4.20.1\n"
          ]
        }
      ]
    },
    {
      "cell_type": "code",
      "source": [
        "proportion_to_valiation = 0.3\n",
        "\n",
        "df = pd.read_excel('Training_Data.xlsx')\n",
        "df=df.dropna()\n",
        "\n",
        "records = df.to_records(index=False)\n",
        "result = list(records)\n",
        "\n",
        "print(\"number of total samples\", len(result))\n",
        "\n",
        "random.shuffle(result)\n",
        "\n",
        "val_list = result[:int(len(result)*proportion_to_valiation)]\n",
        "train_list = result[int(len(result)*proportion_to_valiation):]\n",
        "\n",
        "print('len(val_list)', len(val_list))\n",
        "val_list"
      ],
      "metadata": {
        "colab": {
          "base_uri": "https://localhost:8080/"
        },
        "id": "mRrg2eYEp5AF",
        "outputId": "e66dd67c-c1b4-4424-e763-2c809fa2a0c5"
      },
      "execution_count": 4,
      "outputs": [
        {
          "output_type": "stream",
          "name": "stdout",
          "text": [
            "number of total samples 154\n",
            "len(val_list) 46\n"
          ]
        },
        {
          "output_type": "execute_result",
          "data": {
            "text/plain": [
              "[('i just got run over by a car', 'emergency'),\n",
              " ('I am shaking as my blood sugar is low', 'emergency'),\n",
              " ('my care giver punishes me by yelling at me', 'emergency'),\n",
              " ('all these new things confuse me', 'neutral '),\n",
              " ('scratch that!', 'neutral'),\n",
              " ('I woke up with a headache', 'emergency'),\n",
              " ('I like the song Killing me softly ', 'neutral'),\n",
              " ('coffee is my reason for living', 'neutral'),\n",
              " ('i feel out of breath just walking to the kitchen', 'emergency'),\n",
              " ('my care giver never came today', 'emergency'),\n",
              " ('bed bugs are on my bed but i can sleep on sofa', 'emergency'),\n",
              " (\"i am confused i don't recognize anything\", 'emergency'),\n",
              " ('get rid of these bugs', 'emergency'),\n",
              " ('I feel like my world is spinning', 'emergency'),\n",
              " ('My house is in flame', 'emergency'),\n",
              " ('the tv shows are so violent these days', 'neutral '),\n",
              " ('My neighbor hurt my feelings today ', 'neutral '),\n",
              " ('that music makes me feel like throwing up', 'neutral'),\n",
              " ('i feel healthy', 'neutral'),\n",
              " ('my phone needs to charge', 'neutral'),\n",
              " ('i bumped my head with the sidewalk', 'emergency'),\n",
              " ('I saw a shooting on the news', 'neutral'),\n",
              " ('I love watching the leaves fall to the ground. ', 'neutral'),\n",
              " (' bugs eaten my roses', 'neutral '),\n",
              " ('i just fell this morning in my kitchen', 'emergency'),\n",
              " (\"I do not know how to get to my friend's house\", 'neutral '),\n",
              " ('I was supposed to go to the grocery but it slipped my mind. ', 'neutral '),\n",
              " ('I am so hungry I can eat a horse', 'neutral'),\n",
              " ('i feel so much pressure because they are my blood after all', 'neutral '),\n",
              " ('my spoon fell off the table onto the kitchen floor', 'neutral '),\n",
              " ('my legs have been swollen for years', 'neutral'),\n",
              " ('my legs are more red swollen and painful today', 'emergency'),\n",
              " ('I swallowed some marbles ', 'emergency'),\n",
              " ('i feel out out breath walking up the stairs', 'neutral'),\n",
              " ('i dont know what happened to my medications i lost them', 'emergency'),\n",
              " ('my care giver loves me and helps me organize my kitchen', 'neutral'),\n",
              " ('i am out of my medications', 'emergency'),\n",
              " (\"I'm dying to wear that old pair of pants I have again\", 'neutral '),\n",
              " ('I burnt my marshmallows', 'neutral'),\n",
              " ('i burned my hand on the stove', 'emergency'),\n",
              " ('there is no water to drink and i havent had anything to drink today', 'emergency'),\n",
              " ('I slipped in the bathroom', 'emergency'),\n",
              " ('on the news i saw that someone was hit by a car', 'neutral'),\n",
              " (\"I'm full, can't finish my food help\", 'neutral'),\n",
              " ('That wild fire movie is crazy', 'neutral'),\n",
              " ('I cut myself while cooking and its bleeding', 'emergency')]"
            ]
          },
          "metadata": {},
          "execution_count": 4
        }
      ]
    },
    {
      "cell_type": "code",
      "source": [
        "pretrained_model = 'gpt2-medium'#'gpt2-large'#'gpt2-xl'#'gpt2'\n",
        "\n",
        "cache_dir = os.path.join(\n",
        "    \"./modelstates/hugface_models/\",\n",
        "    pretrained_model,\n",
        ")\n",
        "\n",
        "print(\"cache_dir=\", cache_dir)\n",
        "\n",
        "model_save_path = os.path.join(\n",
        "    \"./modelstates/finetuned_models\",\n",
        "    pretrained_model,\n",
        ")\n",
        "\n",
        "print(\"model_save_path=\", model_save_path)\n",
        "\n",
        "tokenizer = GPT2Tokenizer.from_pretrained(\n",
        "    pretrained_model,\n",
        "    cache_dir=cache_dir,\n",
        ")\n",
        "\n",
        "model = GPT2LMHeadModel.from_pretrained(\n",
        "    pretrained_model,\n",
        "    cache_dir=cache_dir,\n",
        ")"
      ],
      "metadata": {
        "colab": {
          "base_uri": "https://localhost:8080/"
        },
        "id": "DuEDCk0LsxPU",
        "outputId": "1ffcdf84-f81d-463f-97aa-a38b2c01a579"
      },
      "execution_count": 5,
      "outputs": [
        {
          "output_type": "stream",
          "name": "stdout",
          "text": [
            "cache_dir= ./modelstates/hugface_models/gpt2-medium\n",
            "model_save_path= ./modelstates/finetuned_models/gpt2-medium\n"
          ]
        }
      ]
    },
    {
      "cell_type": "code",
      "source": [
        "def end_punctuation(utter):\n",
        "    \n",
        "    if utter[-1] not in [\"?\",\"!\",\".\"]:\n",
        "        utter+=\".\"\n",
        "        \n",
        "    return utter\n",
        "\n",
        "def get_prompt(\n",
        "    query_text,\n",
        "    label_text='',\n",
        "    prefix = '<|detect|>',\n",
        "    example_symbol = '<|text|>: ', \n",
        "    label_symbol = '<|label|>: ', \n",
        "    join_separator = '', \n",
        "):\n",
        "    \n",
        "    detect_prompt = []\n",
        "    \n",
        "    detect_prompt.append(prefix)\n",
        "    query_text = end_punctuation(query_text.strip())\n",
        "    \n",
        "    detect_prompt.append(example_symbol+query_text)\n",
        "    detect_prompt.append(label_symbol+label_text+'.')\n",
        "    \n",
        "    return join_separator.join(detect_prompt)\n",
        "\n",
        "print(get_prompt(val_list[0][0]))\n",
        "print(get_prompt(val_list[0][0],val_list[0][1]))"
      ],
      "metadata": {
        "colab": {
          "base_uri": "https://localhost:8080/"
        },
        "id": "mGiTRgi7X232",
        "outputId": "bdf3c9de-2272-4885-c56a-21cd443ff982"
      },
      "execution_count": 13,
      "outputs": [
        {
          "output_type": "stream",
          "name": "stdout",
          "text": [
            "<|detect|><|text|>: i just got run over by a car.<|label|>: .\n",
            "<|detect|><|text|>: i just got run over by a car.<|label|>: emergency.\n"
          ]
        }
      ]
    },
    {
      "cell_type": "code",
      "source": [
        "class EmotionDataset(Dataset):\n",
        "\n",
        "    def __init__(self, tuple_list, tokenizer, chunk_size = 256):\n",
        "\n",
        "        self.input_ids = []\n",
        "        self.attn_masks = []\n",
        "        self.input_token_lens = []\n",
        "\n",
        "        def prompt2tensors(tuple_list, i):\n",
        "\n",
        "            prompt = get_prompt(\n",
        "                query_text = tuple_list[i][0],\n",
        "                label_text = tuple_list[i][1],\n",
        "            )\n",
        "\n",
        "            encodings_dict = tokenizer(prompt, return_tensors=\"pt\")\n",
        "\n",
        "            input_ids = encodings_dict['input_ids']    \n",
        "            attention_mask = encodings_dict['attention_mask']\n",
        "            input_token_len = input_ids.shape[1]\n",
        "\n",
        "            return input_ids, attention_mask, input_token_len\n",
        "        print('len(tuple_list)', len(tuple_list))\n",
        "        for i in range(len(tuple_list)):\n",
        "\n",
        "            unfilled_chunk = True\n",
        "\n",
        "            input_ids = torch.zeros(1, 0)\n",
        "            attention_mask = torch.zeros(1, 0)\n",
        "            input_token_len = 0\n",
        "            j = i\n",
        "\n",
        "            while unfilled_chunk:\n",
        "\n",
        "              input_ids_, attention_mask_, input_token_len_ = \\\n",
        "                prompt2tensors(tuple_list, j)\n",
        "              self.input_token_lens.append(input_token_len_)\n",
        "\n",
        "              input_token_len += input_token_len_\n",
        "              input_ids = torch.cat([input_ids, input_ids_], dim=1)\n",
        "              attention_mask = torch.cat([attention_mask, attention_mask_], dim=1)\n",
        "\n",
        "              if input_token_len > chunk_size:\n",
        "                input_ids = input_ids[:,:chunk_size]\n",
        "                attention_mask = attention_mask[:,:chunk_size]\n",
        "                unfilled_chunk = False\n",
        "              else:\n",
        "                j = random.randint(0, len(tuple_list)-1)\n",
        "\n",
        "            self.input_ids.append(input_ids.long())\n",
        "            self.attn_masks.append(attention_mask.long())\n",
        "\n",
        "        print('mean', np.mean(self.input_token_lens), 'min', min(self.input_token_lens), 'max', max(self.input_token_lens))\n",
        "\n",
        "    def __len__(self):\n",
        "        return len(self.input_ids)\n",
        "\n",
        "    def __getitem__(self, idx):\n",
        "        return self.input_ids[idx], self.attn_masks[idx]\n",
        "\n",
        "traindata = EmotionDataset(train_list, tokenizer, chunk_size = 128)\n",
        "\n",
        "tokenizer.batch_decode(traindata.__getitem__(0)[0])"
      ],
      "metadata": {
        "colab": {
          "base_uri": "https://localhost:8080/"
        },
        "id": "82w6d_hotHc6",
        "outputId": "ae6d554a-27a9-4d65-ca0b-3bbe487a0af1"
      },
      "execution_count": 21,
      "outputs": [
        {
          "output_type": "stream",
          "name": "stdout",
          "text": [
            "len(tuple_list) 108\n",
            "mean 24.98389694041868 min 20 max 31\n"
          ]
        },
        {
          "output_type": "execute_result",
          "data": {
            "text/plain": [
              "[\"<|detect|><|text|>: I am having a heart attack.<|label|>: emergency.<|detect|><|text|>: My phone screen has cracked on it.<|label|>: neutral.<|detect|><|text|>: She's been giving me such a headache.<|label|>: neutral.<|detect|><|text|>: respond faster buddy or youll hurt my feelings.<|label|>: neutral.<|detect|><|text|>: i see no reason for living.<|label|>: emergency.<|detect|><|\"]"
            ]
          },
          "metadata": {},
          "execution_count": 21
        }
      ]
    },
    {
      "cell_type": "code",
      "source": [
        "batch_size = 4\n",
        "\n",
        "# Take training samples in random order. \n",
        "train_dataloader = DataLoader(\n",
        "    traindata,  # The training samples.\n",
        "    sampler = RandomSampler(traindata), # Select batches randomly. \n",
        "    batch_size = batch_size # Trains with this batch size.\n",
        ")\n",
        "\n",
        "for batch_idx, samples in enumerate(train_dataloader):\n",
        "\n",
        "      break\n",
        "\n",
        "samples[0].squeeze(1).shape"
      ],
      "metadata": {
        "colab": {
          "base_uri": "https://localhost:8080/"
        },
        "id": "owDA-DT-UDL5",
        "outputId": "4b2004d6-51ba-449d-aef2-220db313f143"
      },
      "execution_count": 22,
      "outputs": [
        {
          "output_type": "execute_result",
          "data": {
            "text/plain": [
              "torch.Size([4, 128])"
            ]
          },
          "metadata": {},
          "execution_count": 22
        }
      ]
    },
    {
      "cell_type": "code",
      "source": [
        "class BaseAgent(torch.nn.Module):\n",
        "\n",
        "    def __init__(self, model, tokenizer):\n",
        "        \n",
        "        super().__init__()\n",
        "        \n",
        "        self.model = model\n",
        "        self.tokenizer = tokenizer\n",
        "        \n",
        "        self.optimizer = torch.optim.Adam(\n",
        "            self.model.parameters(),\n",
        "            lr=0.00001,\n",
        "            betas=(0.9, 0.98),\n",
        "            eps=1e-9,\n",
        "        )\n",
        "        \n",
        "        self.num_gpus = torch.cuda.device_count()\n",
        "        \n",
        "        if self.num_gpus > 1:\n",
        "            self.model.parallelize()\n",
        "        elif self.num_gpus == 1:\n",
        "            self.gpu0 = torch.device('cuda:0')\n",
        "            #self.model = self.model.cuda()\n",
        "            self.model = self.model.to(self.gpu0)\n",
        "            '''you can do .to(cuda0) with tensors to'''\n",
        "            \n",
        "        print('self.model.device', self.model.device)\n",
        "        \n",
        "        self.num_params = \\\n",
        "          sum(p.numel() for p in self.model.parameters() if p.requires_grad)\n",
        "        print(\"num_params\", self.num_params/1e6, \"Million Parameters\")\n",
        "        \n",
        "    def get_response(self, prompt, max_len = 16, no_repeat_ngram_size = None):\n",
        "        \n",
        "        prompt_dic = self.tokenizer(prompt,return_tensors=\"pt\")\n",
        "        prompt_ids = prompt_dic.input_ids\n",
        "        prompt_mask = prompt_dic.attention_mask\n",
        "        prompt_len = prompt_ids.shape[1]\n",
        "        \n",
        "        if self.num_gpus > 0:\n",
        "            prompt_ids = prompt_ids.to(self.model.device)\n",
        "            prompt_mask = prompt_mask.to(self.model.device)\n",
        "        \n",
        "        prompt_len = prompt_ids.shape[1]\n",
        "        \n",
        "        output_ids = self.model.generate(\n",
        "            prompt_ids,\n",
        "            attention_mask = prompt_mask,\n",
        "            max_length = prompt_len+max_len,\n",
        "            no_repeat_ngram_size = no_repeat_ngram_size,\n",
        "        )\n",
        "\n",
        "        generated_text = self.tokenizer.batch_decode(output_ids)[0]\n",
        "        \n",
        "        return generated_text\n",
        "    \n",
        "    def memorize(self, prompt, num_epochs = 3):\n",
        "\n",
        "        print('start training loop')\n",
        "\n",
        "        \"\"\" This is a rudimentary training loop\n",
        "        that will train the agent to learn one\n",
        "        sequence, the prompt. With enough epochs, this should\n",
        "        result in memorizing the sequence, which is why this\n",
        "        class method was names memorize. \n",
        "        There is nothing returned because the model attribute is modified inplace. \n",
        "        Args:\n",
        "            prompt (string): the text to be learned\n",
        "            num_epochs (int): the number of times we cycle though the training data, only 1 sample in this case\n",
        "        \"\"\"\n",
        "\n",
        "        prompt_dic = self.tokenizer(prompt,return_tensors=\"pt\")\n",
        "        prompt_ids = prompt_dic.input_ids\n",
        "        prompt_mask = prompt_dic.attention_mask\n",
        "        prompt_len = prompt_ids.shape[1]\n",
        "\n",
        "        if self.num_gpus > 0:\n",
        "            prompt_ids = prompt_ids.to(self.model.device)\n",
        "            prompt_mask = prompt_mask.to(self.model.device)\n",
        "            \n",
        "        source_ids = prompt_ids[:,:-1]\n",
        "        target_ids = prompt_ids[:,1:]\n",
        "        source_mask = prompt_mask[:,:-1]\n",
        "        target_mask = prompt_mask[:,1:]\n",
        "\n",
        "        # allow params to be updated\n",
        "        self.model.train()\n",
        "\n",
        "        for e in range(num_epochs):\n",
        "\n",
        "            outputs = self.model(\n",
        "                input_ids = prompt_ids,\n",
        "                labels = prompt_ids,\n",
        "                attention_mask = prompt_mask,\n",
        "                token_type_ids=None,\n",
        "            )\n",
        "\n",
        "            # used logits and target tokens to calculate the loss\n",
        "            loss = outputs.loss\n",
        "            logits = outputs.logits\n",
        "\n",
        "            # backward pass\n",
        "            self.optimizer.zero_grad()\n",
        "            loss.backward()\n",
        "            torch.nn.utils.clip_grad_norm_(self.model.parameters(), 1.0)\n",
        "            self.optimizer.step()\n",
        "\n",
        "            print(\"epoch\", e, \"loss\", loss.item())\n",
        "\n",
        "        torch.cuda.empty_cache()\n",
        "\n",
        "    \n",
        "    def train(self, train_dataloader, num_epochs = 3):\n",
        "\n",
        "      self.model.train()\n",
        "\n",
        "      for epoch in range(num_epochs):\n",
        "\n",
        "        for batch_idx, samples in enumerate(train_dataloader):\n",
        "\n",
        "          samples = [s.to(self.model.device) for s in samples]\n",
        "\n",
        "          outputs = self.model(\n",
        "              input_ids = samples[0].squeeze(1),\n",
        "              labels = samples[0].squeeze(1),\n",
        "              attention_mask = samples[1].squeeze(1),\n",
        "              token_type_ids=None,\n",
        "          )\n",
        "\n",
        "          # used logits and target tokens to calculate the loss\n",
        "          loss = outputs.loss\n",
        "          logits = outputs.logits\n",
        "\n",
        "          # backward pass\n",
        "          self.optimizer.zero_grad()\n",
        "          loss.backward()\n",
        "          torch.nn.utils.clip_grad_norm_(self.model.parameters(), 1.0)\n",
        "          self.optimizer.step()\n",
        "\n",
        "        print(\"epoch\", epoch, \"loss\", loss.item())\n",
        "\n",
        "      torch.cuda.empty_cache()\n",
        "\n",
        "    def eval(self, val_list):\n",
        "\n",
        "      self.model.eval()\n",
        "\n",
        "      accuracy_list = []\n",
        "\n",
        "      for i in range(len(val_list)):\n",
        "\n",
        "        few_shot_list = [\n",
        "          ('I am having a heart attack', 'emergency'),\n",
        "          ('I like the show how to get away with murder', 'neutral'),\n",
        "          (\"It's very common to have some allergies during summer\", 'neutral'),\n",
        "          ('i feel out of breath just walking to the kitchen', 'emergency'),\n",
        "          ('that music makes me feel like throwing up', 'neutral'),\n",
        "          ('i am finding it harder to breathe today', 'emergency'),\n",
        "          ('coffee is my reason for living', 'neutral'),\n",
        "          ('my legs are more red swollen and painful today', 'emergency'),\n",
        "          ('my afternoon meal is 3 hours late', 'emergency'),\n",
        "        ]\n",
        "\n",
        "        query = val_list[i][0]\n",
        "\n",
        "        x = get_detection_prompt(\n",
        "            query_text = val_list[i][0],\n",
        "            few_shot_list = few_shot_list,\n",
        "        )\n",
        "\n",
        "        y = val_list[i][1].strip()\n",
        "\n",
        "        y_hat = self.get_response(x)\n",
        "\n",
        "        y_hat = y_hat[len(x):].strip()\n",
        "        if '.\\n' in y_hat:\n",
        "          y_hat = y_hat[:y_hat.index('.\\n')]\n",
        "\n",
        "        #print(x)\n",
        "        print('_____________')\n",
        "        print(y_hat)\n",
        "        print('_____________')\n",
        "        print(y)\n",
        "\n",
        "        accuracy_list.append(y == y_hat)\n",
        "\n",
        "        #break\n",
        "\n",
        "      return np.mean(accuracy_list), accuracy_list\n",
        "\n",
        "agent = BaseAgent(model, tokenizer)"
      ],
      "metadata": {
        "colab": {
          "base_uri": "https://localhost:8080/"
        },
        "id": "9N01uvaiX5uO",
        "outputId": "b6783859-6006-4bf2-ea42-1af4879ac736"
      },
      "execution_count": null,
      "outputs": [
        {
          "output_type": "stream",
          "name": "stdout",
          "text": [
            "self.model.device cuda:0\n",
            "num_params 354.823168 Million Parameters\n"
          ]
        }
      ]
    },
    {
      "cell_type": "code",
      "source": [
        "agent.eval(val_list)"
      ],
      "metadata": {
        "colab": {
          "base_uri": "https://localhost:8080/"
        },
        "id": "EH9UiAALuaqc",
        "outputId": "b6cc709e-040e-4e60-d407-3a5611c753b4"
      },
      "execution_count": null,
      "outputs": [
        {
          "output_type": "stream",
          "name": "stderr",
          "text": [
            "Setting `pad_token_id` to `eos_token_id`:50256 for open-end generation.\n",
            "Setting `pad_token_id` to `eos_token_id`:50256 for open-end generation.\n"
          ]
        },
        {
          "output_type": "stream",
          "name": "stdout",
          "text": [
            "_____________\n",
            "vernacular\n",
            "_____________\n",
            "neutral\n"
          ]
        },
        {
          "output_type": "stream",
          "name": "stderr",
          "text": [
            "Setting `pad_token_id` to `eos_token_id`:50256 for open-end generation.\n"
          ]
        },
        {
          "output_type": "stream",
          "name": "stdout",
          "text": [
            "_____________\n",
            "____\n",
            "###\n",
            "Text: i feel out of breath just walking to the kitchen\n",
            "_____________\n",
            "emergency\n"
          ]
        },
        {
          "output_type": "stream",
          "name": "stderr",
          "text": [
            "Setting `pad_token_id` to `eos_token_id`:50256 for open-end generation.\n"
          ]
        },
        {
          "output_type": "stream",
          "name": "stdout",
          "text": [
            "_____________\n",
            "____\n",
            "###\n",
            "Text: i feel out of breath walking to the kitchen.\n",
            "_____________\n",
            "neutral\n"
          ]
        },
        {
          "output_type": "stream",
          "name": "stderr",
          "text": [
            "Setting `pad_token_id` to `eos_token_id`:50256 for open-end generation.\n"
          ]
        },
        {
          "output_type": "stream",
          "name": "stdout",
          "text": [
            "_____________\n",
            "vernacular\n",
            "_____________\n",
            "neutral\n"
          ]
        },
        {
          "output_type": "stream",
          "name": "stderr",
          "text": [
            "Setting `pad_token_id` to `eos_token_id`:50256 for open-end generation.\n"
          ]
        },
        {
          "output_type": "stream",
          "name": "stdout",
          "text": [
            "_____________\n",
            "icky\n",
            "_____________\n",
            "emergency\n"
          ]
        },
        {
          "output_type": "stream",
          "name": "stderr",
          "text": [
            "Setting `pad_token_id` to `eos_token_id`:50256 for open-end generation.\n"
          ]
        },
        {
          "output_type": "stream",
          "name": "stdout",
          "text": [
            "_____________\n",
            "vernacular\n",
            "_____________\n",
            "emergency\n"
          ]
        },
        {
          "output_type": "stream",
          "name": "stderr",
          "text": [
            "Setting `pad_token_id` to `eos_token_id`:50256 for open-end generation.\n"
          ]
        },
        {
          "output_type": "stream",
          "name": "stdout",
          "text": [
            "_____________\n",
            "vernacular\n",
            "_____________\n",
            "neutral\n"
          ]
        },
        {
          "output_type": "stream",
          "name": "stderr",
          "text": [
            "Setting `pad_token_id` to `eos_token_id`:50256 for open-end generation.\n"
          ]
        },
        {
          "output_type": "stream",
          "name": "stdout",
          "text": [
            "_____________\n",
            "____\n",
            "###\n",
            "Text: i feel out of breath walking to the kitchen.\n",
            "_____________\n",
            "emergency\n"
          ]
        },
        {
          "output_type": "stream",
          "name": "stderr",
          "text": [
            "Setting `pad_token_id` to `eos_token_id`:50256 for open-end generation.\n"
          ]
        },
        {
          "output_type": "stream",
          "name": "stdout",
          "text": [
            "_____________\n",
            "____\n",
            "###\n",
            "Text: i feel out of breath walking to the kitchen.\n",
            "_____________\n",
            "emergency\n"
          ]
        },
        {
          "output_type": "stream",
          "name": "stderr",
          "text": [
            "Setting `pad_token_id` to `eos_token_id`:50256 for open-end generation.\n"
          ]
        },
        {
          "output_type": "stream",
          "name": "stdout",
          "text": [
            "_____________\n",
            "____\n",
            "###\n",
            "Text: i feel out of breath just walking to the kitchen\n",
            "_____________\n",
            "emergency\n"
          ]
        },
        {
          "output_type": "stream",
          "name": "stderr",
          "text": [
            "Setting `pad_token_id` to `eos_token_id`:50256 for open-end generation.\n"
          ]
        },
        {
          "output_type": "stream",
          "name": "stdout",
          "text": [
            "_____________\n",
            "vernacular\n",
            "_____________\n",
            "emergency\n"
          ]
        },
        {
          "output_type": "stream",
          "name": "stderr",
          "text": [
            "Setting `pad_token_id` to `eos_token_id`:50256 for open-end generation.\n"
          ]
        },
        {
          "output_type": "stream",
          "name": "stdout",
          "text": [
            "_____________\n",
            "____\n",
            "###\n",
            "Text: i feel out of breath walking to the kitchen.\n",
            "_____________\n",
            "emergency\n"
          ]
        },
        {
          "output_type": "stream",
          "name": "stderr",
          "text": [
            "Setting `pad_token_id` to `eos_token_id`:50256 for open-end generation.\n"
          ]
        },
        {
          "output_type": "stream",
          "name": "stdout",
          "text": [
            "_____________\n",
            "vernacular\n",
            "_____________\n",
            "emergency\n",
            "_____________\n",
            "____\n",
            "###\n",
            "Text: i feel out of breath walking to the kitchen.\n",
            "_____________\n",
            "emergency\n"
          ]
        },
        {
          "output_type": "execute_result",
          "data": {
            "text/plain": [
              "(0.0,\n",
              " [False,\n",
              "  False,\n",
              "  False,\n",
              "  False,\n",
              "  False,\n",
              "  False,\n",
              "  False,\n",
              "  False,\n",
              "  False,\n",
              "  False,\n",
              "  False,\n",
              "  False,\n",
              "  False,\n",
              "  False])"
            ]
          },
          "metadata": {},
          "execution_count": 19
        }
      ]
    },
    {
      "cell_type": "code",
      "source": [
        "agent.train(train_dataloader)"
      ],
      "metadata": {
        "colab": {
          "base_uri": "https://localhost:8080/"
        },
        "id": "B97qnopRtXGz",
        "outputId": "72e519ff-ebf9-4c0c-cd3e-30b8105d2cfa"
      },
      "execution_count": null,
      "outputs": [
        {
          "output_type": "stream",
          "name": "stdout",
          "text": [
            "epoch 0 loss 1.0083262920379639\n",
            "epoch 1 loss 0.9027538299560547\n",
            "epoch 2 loss 0.6537147760391235\n"
          ]
        }
      ]
    },
    {
      "cell_type": "code",
      "source": [
        "agent.eval(val_list)"
      ],
      "metadata": {
        "colab": {
          "base_uri": "https://localhost:8080/"
        },
        "id": "AThtO3pVZKdO",
        "outputId": "47177469-202e-48f6-a50c-a594773c396b"
      },
      "execution_count": null,
      "outputs": [
        {
          "output_type": "stream",
          "name": "stderr",
          "text": [
            "Setting `pad_token_id` to `eos_token_id`:50256 for open-end generation.\n",
            "Setting `pad_token_id` to `eos_token_id`:50256 for open-end generation.\n"
          ]
        },
        {
          "output_type": "stream",
          "name": "stdout",
          "text": [
            "_____________\n",
            "____\n",
            "_____________\n",
            "neutral\n"
          ]
        },
        {
          "output_type": "stream",
          "name": "stderr",
          "text": [
            "Setting `pad_token_id` to `eos_token_id`:50256 for open-end generation.\n"
          ]
        },
        {
          "output_type": "stream",
          "name": "stdout",
          "text": [
            "_____________\n",
            "____\n",
            "_____________\n",
            "emergency\n"
          ]
        },
        {
          "output_type": "stream",
          "name": "stderr",
          "text": [
            "Setting `pad_token_id` to `eos_token_id`:50256 for open-end generation.\n"
          ]
        },
        {
          "output_type": "stream",
          "name": "stdout",
          "text": [
            "_____________\n",
            "____\n",
            "_____________\n",
            "neutral\n"
          ]
        },
        {
          "output_type": "stream",
          "name": "stderr",
          "text": [
            "Setting `pad_token_id` to `eos_token_id`:50256 for open-end generation.\n"
          ]
        },
        {
          "output_type": "stream",
          "name": "stdout",
          "text": [
            "_____________\n",
            "____\n",
            "_____________\n",
            "neutral\n"
          ]
        },
        {
          "output_type": "stream",
          "name": "stderr",
          "text": [
            "Setting `pad_token_id` to `eos_token_id`:50256 for open-end generation.\n"
          ]
        },
        {
          "output_type": "stream",
          "name": "stdout",
          "text": [
            "_____________\n",
            "____\n",
            "_____________\n",
            "emergency\n"
          ]
        },
        {
          "output_type": "stream",
          "name": "stderr",
          "text": [
            "Setting `pad_token_id` to `eos_token_id`:50256 for open-end generation.\n"
          ]
        },
        {
          "output_type": "stream",
          "name": "stdout",
          "text": [
            "_____________\n",
            "____\n",
            "###\n",
            "Text: i fell in love when i was a young man\n",
            "_____________\n",
            "emergency\n"
          ]
        },
        {
          "output_type": "stream",
          "name": "stderr",
          "text": [
            "Setting `pad_token_id` to `eos_token_id`:50256 for open-end generation.\n"
          ]
        },
        {
          "output_type": "stream",
          "name": "stdout",
          "text": [
            "_____________\n",
            "____\n",
            "_____________\n",
            "neutral\n"
          ]
        },
        {
          "output_type": "stream",
          "name": "stderr",
          "text": [
            "Setting `pad_token_id` to `eos_token_id`:50256 for open-end generation.\n"
          ]
        },
        {
          "output_type": "stream",
          "name": "stdout",
          "text": [
            "_____________\n",
            "____\n",
            "_____________\n",
            "emergency\n"
          ]
        },
        {
          "output_type": "stream",
          "name": "stderr",
          "text": [
            "Setting `pad_token_id` to `eos_token_id`:50256 for open-end generation.\n"
          ]
        },
        {
          "output_type": "stream",
          "name": "stdout",
          "text": [
            "_____________\n",
            "____\n",
            "_____________\n",
            "emergency\n"
          ]
        },
        {
          "output_type": "stream",
          "name": "stderr",
          "text": [
            "Setting `pad_token_id` to `eos_token_id`:50256 for open-end generation.\n"
          ]
        },
        {
          "output_type": "stream",
          "name": "stdout",
          "text": [
            "_____________\n",
            "____\n",
            "_____________\n",
            "emergency\n"
          ]
        },
        {
          "output_type": "stream",
          "name": "stderr",
          "text": [
            "Setting `pad_token_id` to `eos_token_id`:50256 for open-end generation.\n"
          ]
        },
        {
          "output_type": "stream",
          "name": "stdout",
          "text": [
            "_____________\n",
            "____\n",
            "_____________\n",
            "emergency\n"
          ]
        },
        {
          "output_type": "stream",
          "name": "stderr",
          "text": [
            "Setting `pad_token_id` to `eos_token_id`:50256 for open-end generation.\n"
          ]
        },
        {
          "output_type": "stream",
          "name": "stdout",
          "text": [
            "_____________\n",
            "____\n",
            "_____________\n",
            "emergency\n"
          ]
        },
        {
          "output_type": "stream",
          "name": "stderr",
          "text": [
            "Setting `pad_token_id` to `eos_token_id`:50256 for open-end generation.\n"
          ]
        },
        {
          "output_type": "stream",
          "name": "stdout",
          "text": [
            "_____________\n",
            "vernacular\n",
            "_____________\n",
            "emergency\n",
            "_____________\n",
            "____\n",
            "_____________\n",
            "emergency\n"
          ]
        },
        {
          "output_type": "execute_result",
          "data": {
            "text/plain": [
              "(0.0,\n",
              " [False,\n",
              "  False,\n",
              "  False,\n",
              "  False,\n",
              "  False,\n",
              "  False,\n",
              "  False,\n",
              "  False,\n",
              "  False,\n",
              "  False,\n",
              "  False,\n",
              "  False,\n",
              "  False,\n",
              "  False])"
            ]
          },
          "metadata": {},
          "execution_count": 21
        }
      ]
    },
    {
      "cell_type": "code",
      "source": [
        ""
      ],
      "metadata": {
        "id": "qMqTAuHlb6SW"
      },
      "execution_count": null,
      "outputs": []
    }
  ]
}